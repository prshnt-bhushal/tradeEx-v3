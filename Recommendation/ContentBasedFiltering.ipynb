{
 "cells": [
  {
   "cell_type": "code",
   "execution_count": 1,
   "id": "3d7cb885",
   "metadata": {},
   "outputs": [],
   "source": [
    "import pandas as pd\n",
    "import numpy as np\n",
    "import matplotlib.pyplot as plt\n",
    "import seaborn as sns"
   ]
  },
  {
   "cell_type": "code",
   "execution_count": 251,
   "id": "38641d1a",
   "metadata": {},
   "outputs": [],
   "source": [
    "books = pd.read_csv('BooksDatasetClean.csv')"
   ]
  },
  {
   "cell_type": "code",
   "execution_count": null,
   "id": "f1677e69",
   "metadata": {},
   "outputs": [],
   "source": []
  },
  {
   "cell_type": "code",
   "execution_count": 252,
   "id": "b604c1d0",
   "metadata": {},
   "outputs": [
    {
     "data": {
      "text/html": [
       "<div>\n",
       "<style scoped>\n",
       "    .dataframe tbody tr th:only-of-type {\n",
       "        vertical-align: middle;\n",
       "    }\n",
       "\n",
       "    .dataframe tbody tr th {\n",
       "        vertical-align: top;\n",
       "    }\n",
       "\n",
       "    .dataframe thead th {\n",
       "        text-align: right;\n",
       "    }\n",
       "</style>\n",
       "<table border=\"1\" class=\"dataframe\">\n",
       "  <thead>\n",
       "    <tr style=\"text-align: right;\">\n",
       "      <th></th>\n",
       "      <th>Title</th>\n",
       "      <th>Authors</th>\n",
       "      <th>Description</th>\n",
       "      <th>Category</th>\n",
       "      <th>Publisher</th>\n",
       "      <th>Price Starting With ($)</th>\n",
       "      <th>Publish Date (Month)</th>\n",
       "      <th>Publish Date (Year)</th>\n",
       "    </tr>\n",
       "  </thead>\n",
       "  <tbody>\n",
       "    <tr>\n",
       "      <th>0</th>\n",
       "      <td>Goat Brothers</td>\n",
       "      <td>By Colton, Larry</td>\n",
       "      <td>NaN</td>\n",
       "      <td>History , General</td>\n",
       "      <td>Doubleday</td>\n",
       "      <td>8.79</td>\n",
       "      <td>January</td>\n",
       "      <td>1993</td>\n",
       "    </tr>\n",
       "    <tr>\n",
       "      <th>1</th>\n",
       "      <td>The Missing Person</td>\n",
       "      <td>By Grumbach, Doris</td>\n",
       "      <td>NaN</td>\n",
       "      <td>Fiction , General</td>\n",
       "      <td>Putnam Pub Group</td>\n",
       "      <td>4.99</td>\n",
       "      <td>March</td>\n",
       "      <td>1981</td>\n",
       "    </tr>\n",
       "    <tr>\n",
       "      <th>2</th>\n",
       "      <td>Don't Eat Your Heart Out Cookbook</td>\n",
       "      <td>By Piscatella, Joseph C.</td>\n",
       "      <td>NaN</td>\n",
       "      <td>Cooking , Reference</td>\n",
       "      <td>Workman Pub Co</td>\n",
       "      <td>4.99</td>\n",
       "      <td>September</td>\n",
       "      <td>1983</td>\n",
       "    </tr>\n",
       "    <tr>\n",
       "      <th>3</th>\n",
       "      <td>When Your Corporate Umbrella Begins to Leak: A...</td>\n",
       "      <td>By Davis, Paul D.</td>\n",
       "      <td>NaN</td>\n",
       "      <td>NaN</td>\n",
       "      <td>Natl Pr Books</td>\n",
       "      <td>4.99</td>\n",
       "      <td>April</td>\n",
       "      <td>1991</td>\n",
       "    </tr>\n",
       "    <tr>\n",
       "      <th>4</th>\n",
       "      <td>Amy Spangler's Breastfeeding : A Parent's Guide</td>\n",
       "      <td>By Spangler, Amy</td>\n",
       "      <td>NaN</td>\n",
       "      <td>NaN</td>\n",
       "      <td>Amy Spangler</td>\n",
       "      <td>5.32</td>\n",
       "      <td>February</td>\n",
       "      <td>1997</td>\n",
       "    </tr>\n",
       "    <tr>\n",
       "      <th>...</th>\n",
       "      <td>...</td>\n",
       "      <td>...</td>\n",
       "      <td>...</td>\n",
       "      <td>...</td>\n",
       "      <td>...</td>\n",
       "      <td>...</td>\n",
       "      <td>...</td>\n",
       "      <td>...</td>\n",
       "    </tr>\n",
       "    <tr>\n",
       "      <th>103058</th>\n",
       "      <td>Build 3 Super Serving Carts</td>\n",
       "      <td>By Chuck Hampton</td>\n",
       "      <td>NaN</td>\n",
       "      <td>NaN</td>\n",
       "      <td>ENDesigns Inc.</td>\n",
       "      <td>9.97</td>\n",
       "      <td>January</td>\n",
       "      <td>1992</td>\n",
       "    </tr>\n",
       "    <tr>\n",
       "      <th>103059</th>\n",
       "      <td>My Land of Israel</td>\n",
       "      <td>By Nover, Elizabeth Z.</td>\n",
       "      <td>NaN</td>\n",
       "      <td>Juvenile Nonfiction , People &amp; Places , Middl...</td>\n",
       "      <td>Behrman House</td>\n",
       "      <td>4.99</td>\n",
       "      <td>May</td>\n",
       "      <td>1987</td>\n",
       "    </tr>\n",
       "    <tr>\n",
       "      <th>103060</th>\n",
       "      <td>Tongues: To Speak or Not to Speak</td>\n",
       "      <td>By Donald W. Burdick</td>\n",
       "      <td>NaN</td>\n",
       "      <td>NaN</td>\n",
       "      <td>Moody Press</td>\n",
       "      <td>5.29</td>\n",
       "      <td>January</td>\n",
       "      <td>1969</td>\n",
       "    </tr>\n",
       "    <tr>\n",
       "      <th>103061</th>\n",
       "      <td>If I'm in charge here why is everybody laughing?</td>\n",
       "      <td>By Campbell, David P.</td>\n",
       "      <td>NaN</td>\n",
       "      <td>NaN</td>\n",
       "      <td>Argus Communications</td>\n",
       "      <td>4.99</td>\n",
       "      <td>January</td>\n",
       "      <td>1980</td>\n",
       "    </tr>\n",
       "    <tr>\n",
       "      <th>103062</th>\n",
       "      <td>Your First Puppy (Your First Series)</td>\n",
       "      <td>By Carpentier, Marcel</td>\n",
       "      <td>An introduction to the proper care of puppies ...</td>\n",
       "      <td>Pets , Dogs , General</td>\n",
       "      <td>Tfh Pubns Inc</td>\n",
       "      <td>4.99</td>\n",
       "      <td>November</td>\n",
       "      <td>1991</td>\n",
       "    </tr>\n",
       "  </tbody>\n",
       "</table>\n",
       "<p>103063 rows × 8 columns</p>\n",
       "</div>"
      ],
      "text/plain": [
       "                                                    Title  \\\n",
       "0                                           Goat Brothers   \n",
       "1                                      The Missing Person   \n",
       "2                       Don't Eat Your Heart Out Cookbook   \n",
       "3       When Your Corporate Umbrella Begins to Leak: A...   \n",
       "4         Amy Spangler's Breastfeeding : A Parent's Guide   \n",
       "...                                                   ...   \n",
       "103058                        Build 3 Super Serving Carts   \n",
       "103059                                  My Land of Israel   \n",
       "103060                  Tongues: To Speak or Not to Speak   \n",
       "103061   If I'm in charge here why is everybody laughing?   \n",
       "103062               Your First Puppy (Your First Series)   \n",
       "\n",
       "                         Authors  \\\n",
       "0               By Colton, Larry   \n",
       "1             By Grumbach, Doris   \n",
       "2       By Piscatella, Joseph C.   \n",
       "3              By Davis, Paul D.   \n",
       "4               By Spangler, Amy   \n",
       "...                          ...   \n",
       "103058          By Chuck Hampton   \n",
       "103059    By Nover, Elizabeth Z.   \n",
       "103060      By Donald W. Burdick   \n",
       "103061     By Campbell, David P.   \n",
       "103062     By Carpentier, Marcel   \n",
       "\n",
       "                                              Description  \\\n",
       "0                                                     NaN   \n",
       "1                                                     NaN   \n",
       "2                                                     NaN   \n",
       "3                                                     NaN   \n",
       "4                                                     NaN   \n",
       "...                                                   ...   \n",
       "103058                                                NaN   \n",
       "103059                                                NaN   \n",
       "103060                                                NaN   \n",
       "103061                                                NaN   \n",
       "103062  An introduction to the proper care of puppies ...   \n",
       "\n",
       "                                                 Category  \\\n",
       "0                                       History , General   \n",
       "1                                       Fiction , General   \n",
       "2                                     Cooking , Reference   \n",
       "3                                                     NaN   \n",
       "4                                                     NaN   \n",
       "...                                                   ...   \n",
       "103058                                                NaN   \n",
       "103059   Juvenile Nonfiction , People & Places , Middl...   \n",
       "103060                                                NaN   \n",
       "103061                                                NaN   \n",
       "103062                              Pets , Dogs , General   \n",
       "\n",
       "                   Publisher  Price Starting With ($) Publish Date (Month)  \\\n",
       "0                  Doubleday                     8.79              January   \n",
       "1           Putnam Pub Group                     4.99                March   \n",
       "2             Workman Pub Co                     4.99            September   \n",
       "3              Natl Pr Books                     4.99                April   \n",
       "4               Amy Spangler                     5.32             February   \n",
       "...                      ...                      ...                  ...   \n",
       "103058        ENDesigns Inc.                     9.97              January   \n",
       "103059         Behrman House                     4.99                  May   \n",
       "103060           Moody Press                     5.29              January   \n",
       "103061  Argus Communications                     4.99              January   \n",
       "103062         Tfh Pubns Inc                     4.99             November   \n",
       "\n",
       "        Publish Date (Year)  \n",
       "0                      1993  \n",
       "1                      1981  \n",
       "2                      1983  \n",
       "3                      1991  \n",
       "4                      1997  \n",
       "...                     ...  \n",
       "103058                 1992  \n",
       "103059                 1987  \n",
       "103060                 1969  \n",
       "103061                 1980  \n",
       "103062                 1991  \n",
       "\n",
       "[103063 rows x 8 columns]"
      ]
     },
     "execution_count": 252,
     "metadata": {},
     "output_type": "execute_result"
    }
   ],
   "source": [
    "books"
   ]
  },
  {
   "cell_type": "code",
   "execution_count": 253,
   "id": "07ffe108",
   "metadata": {},
   "outputs": [
    {
     "data": {
      "text/plain": [
       "Title                          0\n",
       "Authors                        0\n",
       "Description                32859\n",
       "Category                   26161\n",
       "Publisher                      8\n",
       "Price Starting With ($)        0\n",
       "Publish Date (Month)           0\n",
       "Publish Date (Year)            0\n",
       "dtype: int64"
      ]
     },
     "execution_count": 253,
     "metadata": {},
     "output_type": "execute_result"
    }
   ],
   "source": [
    "books.isnull().sum()"
   ]
  },
  {
   "cell_type": "code",
   "execution_count": 254,
   "id": "c0466175",
   "metadata": {},
   "outputs": [
    {
     "data": {
      "text/plain": [
       "0"
      ]
     },
     "execution_count": 254,
     "metadata": {},
     "output_type": "execute_result"
    }
   ],
   "source": [
    "books.duplicated().sum()"
   ]
  },
  {
   "cell_type": "code",
   "execution_count": 255,
   "id": "93906ec1",
   "metadata": {},
   "outputs": [],
   "source": [
    "books.dropna(inplace= True)\n",
    "books=books.reset_index()"
   ]
  },
  {
   "cell_type": "code",
   "execution_count": 256,
   "id": "4b4bf81b",
   "metadata": {},
   "outputs": [],
   "source": [
    "books=books.head(2000)"
   ]
  },
  {
   "cell_type": "code",
   "execution_count": 257,
   "id": "b2382951",
   "metadata": {},
   "outputs": [
    {
     "data": {
      "text/plain": [
       "(2000, 9)"
      ]
     },
     "execution_count": 257,
     "metadata": {},
     "output_type": "execute_result"
    }
   ],
   "source": [
    "books.shape"
   ]
  },
  {
   "cell_type": "code",
   "execution_count": 258,
   "id": "7155e99a",
   "metadata": {},
   "outputs": [],
   "source": [
    "books['Description'] = books['Description'].apply(lambda x:x.split())\n",
    "books['Category'] = books['Category'].apply(lambda x:x.split(\",\"))"
   ]
  },
  {
   "cell_type": "code",
   "execution_count": 259,
   "id": "6fab79ea",
   "metadata": {},
   "outputs": [],
   "source": [
    "books['Category'] = books['Category'].apply(lambda x:[i.replace(\"&\",\"\") for i in x])\n",
    "books['Category'] = books['Category'].apply(lambda x:[i.replace(\" \",\"\") for i in x])"
   ]
  },
  {
   "cell_type": "code",
   "execution_count": 260,
   "id": "d39de216",
   "metadata": {},
   "outputs": [],
   "source": [
    "books['Authors'] = books['Authors'].apply(lambda x:x.split(\",\"))"
   ]
  },
  {
   "cell_type": "code",
   "execution_count": 261,
   "id": "773aa8ab",
   "metadata": {},
   "outputs": [],
   "source": [
    "books['Authors'] = books['Authors'].apply(lambda x:[i.replace(\"By\",\"\") for i in x])\n",
    "books['Authors'] = books['Authors'].apply(lambda x:[i.replace(\" \",\"\") for i in x])"
   ]
  },
  {
   "cell_type": "code",
   "execution_count": 262,
   "id": "9e6ab565",
   "metadata": {},
   "outputs": [
    {
     "data": {
      "text/html": [
       "<div>\n",
       "<style scoped>\n",
       "    .dataframe tbody tr th:only-of-type {\n",
       "        vertical-align: middle;\n",
       "    }\n",
       "\n",
       "    .dataframe tbody tr th {\n",
       "        vertical-align: top;\n",
       "    }\n",
       "\n",
       "    .dataframe thead th {\n",
       "        text-align: right;\n",
       "    }\n",
       "</style>\n",
       "<table border=\"1\" class=\"dataframe\">\n",
       "  <thead>\n",
       "    <tr style=\"text-align: right;\">\n",
       "      <th></th>\n",
       "      <th>index</th>\n",
       "      <th>Title</th>\n",
       "      <th>Authors</th>\n",
       "      <th>Description</th>\n",
       "      <th>Category</th>\n",
       "      <th>Publisher</th>\n",
       "      <th>Price Starting With ($)</th>\n",
       "      <th>Publish Date (Month)</th>\n",
       "      <th>Publish Date (Year)</th>\n",
       "    </tr>\n",
       "  </thead>\n",
       "  <tbody>\n",
       "    <tr>\n",
       "      <th>0</th>\n",
       "      <td>7</td>\n",
       "      <td>Journey Through Heartsongs</td>\n",
       "      <td>[Stepanek, MattieJ.T.]</td>\n",
       "      <td>[Collects, poems, written, by, the, eleven-yea...</td>\n",
       "      <td>[Poetry, General]</td>\n",
       "      <td>VSP Books</td>\n",
       "      <td>19.96</td>\n",
       "      <td>September</td>\n",
       "      <td>2001</td>\n",
       "    </tr>\n",
       "    <tr>\n",
       "      <th>1</th>\n",
       "      <td>8</td>\n",
       "      <td>In Search of Melancholy Baby</td>\n",
       "      <td>[Aksyonov, Vassily, Heim, MichaelHenry, andBou...</td>\n",
       "      <td>[The, Russian, author, offers, an, affectionat...</td>\n",
       "      <td>[BiographyAutobiography, General]</td>\n",
       "      <td>Random House</td>\n",
       "      <td>4.99</td>\n",
       "      <td>June</td>\n",
       "      <td>1987</td>\n",
       "    </tr>\n",
       "    <tr>\n",
       "      <th>2</th>\n",
       "      <td>10</td>\n",
       "      <td>The Dieter's Guide to Weight Loss During Sex</td>\n",
       "      <td>[Smith, Richard]</td>\n",
       "      <td>[A, humor, classic,, this, tongue-in-cheek, di...</td>\n",
       "      <td>[HealthFitness, DietNutrition, Diets]</td>\n",
       "      <td>Workman Publishing Company</td>\n",
       "      <td>4.99</td>\n",
       "      <td>January</td>\n",
       "      <td>1978</td>\n",
       "    </tr>\n",
       "    <tr>\n",
       "      <th>3</th>\n",
       "      <td>11</td>\n",
       "      <td>Germs : Biological Weapons and America's Secre...</td>\n",
       "      <td>[Miller, Judith, Engelberg, Stephen, andBroad,...</td>\n",
       "      <td>[Deadly, germs, sprayed, in, shopping, malls,,...</td>\n",
       "      <td>[TechnologyEngineering, MilitaryScience]</td>\n",
       "      <td>Simon &amp; Schuster</td>\n",
       "      <td>4.99</td>\n",
       "      <td>October</td>\n",
       "      <td>2001</td>\n",
       "    </tr>\n",
       "    <tr>\n",
       "      <th>4</th>\n",
       "      <td>13</td>\n",
       "      <td>The Good Book: Reading the Bible with Mind and...</td>\n",
       "      <td>[Gomes, PeterJ.]</td>\n",
       "      <td>[\"The, Bible, and, the, social, and, moral, co...</td>\n",
       "      <td>[Religion, BiblicalBiography, General]</td>\n",
       "      <td>Harper Perennial</td>\n",
       "      <td>5.29</td>\n",
       "      <td>May</td>\n",
       "      <td>1998</td>\n",
       "    </tr>\n",
       "    <tr>\n",
       "      <th>...</th>\n",
       "      <td>...</td>\n",
       "      <td>...</td>\n",
       "      <td>...</td>\n",
       "      <td>...</td>\n",
       "      <td>...</td>\n",
       "      <td>...</td>\n",
       "      <td>...</td>\n",
       "      <td>...</td>\n",
       "      <td>...</td>\n",
       "    </tr>\n",
       "    <tr>\n",
       "      <th>1995</th>\n",
       "      <td>3253</td>\n",
       "      <td>Cuisines of Europe (No. 06440)</td>\n",
       "      <td>[Schmaeling, Tony]</td>\n",
       "      <td>[Provides, recipes, for, appetizers,, soups,, ...</td>\n",
       "      <td>[Cooking, General]</td>\n",
       "      <td>Bookthrift Co</td>\n",
       "      <td>7.46</td>\n",
       "      <td>February</td>\n",
       "      <td>1984</td>\n",
       "    </tr>\n",
       "    <tr>\n",
       "      <th>1996</th>\n",
       "      <td>3258</td>\n",
       "      <td>The Fur-Bearing Animals of North America</td>\n",
       "      <td>[Rue, LeonardLee]</td>\n",
       "      <td>[Using, black-and-white, photographs,, a, stan...</td>\n",
       "      <td>[Science, General]</td>\n",
       "      <td>Crown Pub</td>\n",
       "      <td>19.25</td>\n",
       "      <td>August</td>\n",
       "      <td>1984</td>\n",
       "    </tr>\n",
       "    <tr>\n",
       "      <th>1997</th>\n",
       "      <td>3259</td>\n",
       "      <td>A Clear Conscience</td>\n",
       "      <td>[Fyfield, Frances]</td>\n",
       "      <td>[Fyfield, takes, us, back, into, the, life, an...</td>\n",
       "      <td>[Fiction, MysteryDetective, General]</td>\n",
       "      <td>Pantheon Books</td>\n",
       "      <td>5.29</td>\n",
       "      <td>March</td>\n",
       "      <td>1995</td>\n",
       "    </tr>\n",
       "    <tr>\n",
       "      <th>1998</th>\n",
       "      <td>3260</td>\n",
       "      <td>New Complete Guide to Gardening (Better Homes ...</td>\n",
       "      <td>[Roth, SusanA.]</td>\n",
       "      <td>[An, invaluable, reference, for, both, novice,...</td>\n",
       "      <td>[Gardening, General]</td>\n",
       "      <td>Better Homes and Gardens</td>\n",
       "      <td>8.77</td>\n",
       "      <td>November</td>\n",
       "      <td>1997</td>\n",
       "    </tr>\n",
       "    <tr>\n",
       "      <th>1999</th>\n",
       "      <td>3263</td>\n",
       "      <td>Soar Above the Madness: Surviving Office Polit...</td>\n",
       "      <td>[Drennan, MiriamandAnderson, Joel]</td>\n",
       "      <td>[Success,, motivation,, and, teamwork, are, th...</td>\n",
       "      <td>[Humor, Form, Parodies]</td>\n",
       "      <td>Rutledge Hill Pr</td>\n",
       "      <td>5.29</td>\n",
       "      <td>March</td>\n",
       "      <td>2002</td>\n",
       "    </tr>\n",
       "  </tbody>\n",
       "</table>\n",
       "<p>2000 rows × 9 columns</p>\n",
       "</div>"
      ],
      "text/plain": [
       "      index                                              Title  \\\n",
       "0         7                         Journey Through Heartsongs   \n",
       "1         8                       In Search of Melancholy Baby   \n",
       "2        10       The Dieter's Guide to Weight Loss During Sex   \n",
       "3        11  Germs : Biological Weapons and America's Secre...   \n",
       "4        13  The Good Book: Reading the Bible with Mind and...   \n",
       "...     ...                                                ...   \n",
       "1995   3253                     Cuisines of Europe (No. 06440)   \n",
       "1996   3258           The Fur-Bearing Animals of North America   \n",
       "1997   3259                                 A Clear Conscience   \n",
       "1998   3260  New Complete Guide to Gardening (Better Homes ...   \n",
       "1999   3263  Soar Above the Madness: Surviving Office Polit...   \n",
       "\n",
       "                                                Authors  \\\n",
       "0                                [Stepanek, MattieJ.T.]   \n",
       "1     [Aksyonov, Vassily, Heim, MichaelHenry, andBou...   \n",
       "2                                      [Smith, Richard]   \n",
       "3     [Miller, Judith, Engelberg, Stephen, andBroad,...   \n",
       "4                                      [Gomes, PeterJ.]   \n",
       "...                                                 ...   \n",
       "1995                                 [Schmaeling, Tony]   \n",
       "1996                                  [Rue, LeonardLee]   \n",
       "1997                                 [Fyfield, Frances]   \n",
       "1998                                    [Roth, SusanA.]   \n",
       "1999                 [Drennan, MiriamandAnderson, Joel]   \n",
       "\n",
       "                                            Description  \\\n",
       "0     [Collects, poems, written, by, the, eleven-yea...   \n",
       "1     [The, Russian, author, offers, an, affectionat...   \n",
       "2     [A, humor, classic,, this, tongue-in-cheek, di...   \n",
       "3     [Deadly, germs, sprayed, in, shopping, malls,,...   \n",
       "4     [\"The, Bible, and, the, social, and, moral, co...   \n",
       "...                                                 ...   \n",
       "1995  [Provides, recipes, for, appetizers,, soups,, ...   \n",
       "1996  [Using, black-and-white, photographs,, a, stan...   \n",
       "1997  [Fyfield, takes, us, back, into, the, life, an...   \n",
       "1998  [An, invaluable, reference, for, both, novice,...   \n",
       "1999  [Success,, motivation,, and, teamwork, are, th...   \n",
       "\n",
       "                                      Category                   Publisher  \\\n",
       "0                            [Poetry, General]                   VSP Books   \n",
       "1            [BiographyAutobiography, General]                Random House   \n",
       "2        [HealthFitness, DietNutrition, Diets]  Workman Publishing Company   \n",
       "3     [TechnologyEngineering, MilitaryScience]            Simon & Schuster   \n",
       "4       [Religion, BiblicalBiography, General]            Harper Perennial   \n",
       "...                                        ...                         ...   \n",
       "1995                        [Cooking, General]               Bookthrift Co   \n",
       "1996                        [Science, General]                   Crown Pub   \n",
       "1997      [Fiction, MysteryDetective, General]              Pantheon Books   \n",
       "1998                      [Gardening, General]    Better Homes and Gardens   \n",
       "1999                   [Humor, Form, Parodies]            Rutledge Hill Pr   \n",
       "\n",
       "      Price Starting With ($) Publish Date (Month)  Publish Date (Year)  \n",
       "0                       19.96            September                 2001  \n",
       "1                        4.99                 June                 1987  \n",
       "2                        4.99              January                 1978  \n",
       "3                        4.99              October                 2001  \n",
       "4                        5.29                  May                 1998  \n",
       "...                       ...                  ...                  ...  \n",
       "1995                     7.46             February                 1984  \n",
       "1996                    19.25               August                 1984  \n",
       "1997                     5.29                March                 1995  \n",
       "1998                     8.77             November                 1997  \n",
       "1999                     5.29                March                 2002  \n",
       "\n",
       "[2000 rows x 9 columns]"
      ]
     },
     "execution_count": 262,
     "metadata": {},
     "output_type": "execute_result"
    }
   ],
   "source": [
    "books"
   ]
  },
  {
   "cell_type": "code",
   "execution_count": 263,
   "id": "59b78506",
   "metadata": {},
   "outputs": [
    {
     "data": {
      "text/plain": [
       "(2000, 9)"
      ]
     },
     "execution_count": 263,
     "metadata": {},
     "output_type": "execute_result"
    }
   ],
   "source": [
    "books.shape"
   ]
  },
  {
   "cell_type": "code",
   "execution_count": 264,
   "id": "338a0a51",
   "metadata": {},
   "outputs": [
    {
     "data": {
      "text/html": [
       "<div>\n",
       "<style scoped>\n",
       "    .dataframe tbody tr th:only-of-type {\n",
       "        vertical-align: middle;\n",
       "    }\n",
       "\n",
       "    .dataframe tbody tr th {\n",
       "        vertical-align: top;\n",
       "    }\n",
       "\n",
       "    .dataframe thead th {\n",
       "        text-align: right;\n",
       "    }\n",
       "</style>\n",
       "<table border=\"1\" class=\"dataframe\">\n",
       "  <thead>\n",
       "    <tr style=\"text-align: right;\">\n",
       "      <th></th>\n",
       "      <th>index</th>\n",
       "      <th>Title</th>\n",
       "      <th>Authors</th>\n",
       "      <th>Description</th>\n",
       "      <th>Category</th>\n",
       "      <th>Publisher</th>\n",
       "      <th>Price Starting With ($)</th>\n",
       "      <th>Publish Date (Month)</th>\n",
       "      <th>Publish Date (Year)</th>\n",
       "    </tr>\n",
       "  </thead>\n",
       "  <tbody>\n",
       "    <tr>\n",
       "      <th>0</th>\n",
       "      <td>7</td>\n",
       "      <td>Journey Through Heartsongs</td>\n",
       "      <td>[Stepanek, MattieJ.T.]</td>\n",
       "      <td>[Collects, poems, written, by, the, eleven-yea...</td>\n",
       "      <td>[Poetry, General]</td>\n",
       "      <td>VSP Books</td>\n",
       "      <td>19.96</td>\n",
       "      <td>September</td>\n",
       "      <td>2001</td>\n",
       "    </tr>\n",
       "    <tr>\n",
       "      <th>1</th>\n",
       "      <td>8</td>\n",
       "      <td>In Search of Melancholy Baby</td>\n",
       "      <td>[Aksyonov, Vassily, Heim, MichaelHenry, andBou...</td>\n",
       "      <td>[The, Russian, author, offers, an, affectionat...</td>\n",
       "      <td>[BiographyAutobiography, General]</td>\n",
       "      <td>Random House</td>\n",
       "      <td>4.99</td>\n",
       "      <td>June</td>\n",
       "      <td>1987</td>\n",
       "    </tr>\n",
       "    <tr>\n",
       "      <th>2</th>\n",
       "      <td>10</td>\n",
       "      <td>The Dieter's Guide to Weight Loss During Sex</td>\n",
       "      <td>[Smith, Richard]</td>\n",
       "      <td>[A, humor, classic,, this, tongue-in-cheek, di...</td>\n",
       "      <td>[HealthFitness, DietNutrition, Diets]</td>\n",
       "      <td>Workman Publishing Company</td>\n",
       "      <td>4.99</td>\n",
       "      <td>January</td>\n",
       "      <td>1978</td>\n",
       "    </tr>\n",
       "    <tr>\n",
       "      <th>3</th>\n",
       "      <td>11</td>\n",
       "      <td>Germs : Biological Weapons and America's Secre...</td>\n",
       "      <td>[Miller, Judith, Engelberg, Stephen, andBroad,...</td>\n",
       "      <td>[Deadly, germs, sprayed, in, shopping, malls,,...</td>\n",
       "      <td>[TechnologyEngineering, MilitaryScience]</td>\n",
       "      <td>Simon &amp; Schuster</td>\n",
       "      <td>4.99</td>\n",
       "      <td>October</td>\n",
       "      <td>2001</td>\n",
       "    </tr>\n",
       "    <tr>\n",
       "      <th>4</th>\n",
       "      <td>13</td>\n",
       "      <td>The Good Book: Reading the Bible with Mind and...</td>\n",
       "      <td>[Gomes, PeterJ.]</td>\n",
       "      <td>[\"The, Bible, and, the, social, and, moral, co...</td>\n",
       "      <td>[Religion, BiblicalBiography, General]</td>\n",
       "      <td>Harper Perennial</td>\n",
       "      <td>5.29</td>\n",
       "      <td>May</td>\n",
       "      <td>1998</td>\n",
       "    </tr>\n",
       "  </tbody>\n",
       "</table>\n",
       "</div>"
      ],
      "text/plain": [
       "   index                                              Title  \\\n",
       "0      7                         Journey Through Heartsongs   \n",
       "1      8                       In Search of Melancholy Baby   \n",
       "2     10       The Dieter's Guide to Weight Loss During Sex   \n",
       "3     11  Germs : Biological Weapons and America's Secre...   \n",
       "4     13  The Good Book: Reading the Bible with Mind and...   \n",
       "\n",
       "                                             Authors  \\\n",
       "0                             [Stepanek, MattieJ.T.]   \n",
       "1  [Aksyonov, Vassily, Heim, MichaelHenry, andBou...   \n",
       "2                                   [Smith, Richard]   \n",
       "3  [Miller, Judith, Engelberg, Stephen, andBroad,...   \n",
       "4                                   [Gomes, PeterJ.]   \n",
       "\n",
       "                                         Description  \\\n",
       "0  [Collects, poems, written, by, the, eleven-yea...   \n",
       "1  [The, Russian, author, offers, an, affectionat...   \n",
       "2  [A, humor, classic,, this, tongue-in-cheek, di...   \n",
       "3  [Deadly, germs, sprayed, in, shopping, malls,,...   \n",
       "4  [\"The, Bible, and, the, social, and, moral, co...   \n",
       "\n",
       "                                   Category                   Publisher  \\\n",
       "0                         [Poetry, General]                   VSP Books   \n",
       "1         [BiographyAutobiography, General]                Random House   \n",
       "2     [HealthFitness, DietNutrition, Diets]  Workman Publishing Company   \n",
       "3  [TechnologyEngineering, MilitaryScience]            Simon & Schuster   \n",
       "4    [Religion, BiblicalBiography, General]            Harper Perennial   \n",
       "\n",
       "   Price Starting With ($) Publish Date (Month)  Publish Date (Year)  \n",
       "0                    19.96            September                 2001  \n",
       "1                     4.99                 June                 1987  \n",
       "2                     4.99              January                 1978  \n",
       "3                     4.99              October                 2001  \n",
       "4                     5.29                  May                 1998  "
      ]
     },
     "execution_count": 264,
     "metadata": {},
     "output_type": "execute_result"
    }
   ],
   "source": [
    "books.head()"
   ]
  },
  {
   "cell_type": "code",
   "execution_count": 265,
   "id": "1d402bc0",
   "metadata": {},
   "outputs": [
    {
     "data": {
      "text/plain": [
       "0                                  [Stepanek, MattieJ.T.]\n",
       "1       [Aksyonov, Vassily, Heim, MichaelHenry, andBou...\n",
       "2                                        [Smith, Richard]\n",
       "3       [Miller, Judith, Engelberg, Stephen, andBroad,...\n",
       "4                                        [Gomes, PeterJ.]\n",
       "                              ...                        \n",
       "1995                                   [Schmaeling, Tony]\n",
       "1996                                    [Rue, LeonardLee]\n",
       "1997                                   [Fyfield, Frances]\n",
       "1998                                      [Roth, SusanA.]\n",
       "1999                   [Drennan, MiriamandAnderson, Joel]\n",
       "Name: Authors, Length: 2000, dtype: object"
      ]
     },
     "execution_count": 265,
     "metadata": {},
     "output_type": "execute_result"
    }
   ],
   "source": [
    "books['Authors']"
   ]
  },
  {
   "cell_type": "code",
   "execution_count": 266,
   "id": "9cc69354",
   "metadata": {},
   "outputs": [],
   "source": [
    "books['tags'] = books['Authors']+books['Description']+books['Category']"
   ]
  },
  {
   "cell_type": "code",
   "execution_count": 267,
   "id": "c2bb4f05",
   "metadata": {},
   "outputs": [
    {
     "data": {
      "text/plain": [
       "['Aymar',\n",
       " 'Brandt(EDT)',\n",
       " 'A',\n",
       " 'delightful',\n",
       " 'collection',\n",
       " 'of',\n",
       " 'reflections',\n",
       " 'on',\n",
       " 'the',\n",
       " 'feline',\n",
       " 'contains',\n",
       " 'selections',\n",
       " 'from',\n",
       " 'famous',\n",
       " 'artists,',\n",
       " 'writers,',\n",
       " 'poets,',\n",
       " 'and',\n",
       " 'essayists,',\n",
       " 'such',\n",
       " 'as',\n",
       " 'Pablo',\n",
       " 'Picasso,',\n",
       " 'Rudyard',\n",
       " 'Kipling,',\n",
       " 'T.',\n",
       " 'S.',\n",
       " 'Eliot,',\n",
       " 'and',\n",
       " 'others.',\n",
       " 'Pets',\n",
       " 'Cats',\n",
       " 'General']"
      ]
     },
     "execution_count": 267,
     "metadata": {},
     "output_type": "execute_result"
    }
   ],
   "source": [
    "books['tags'][7]"
   ]
  },
  {
   "cell_type": "code",
   "execution_count": 268,
   "id": "85a9838f",
   "metadata": {},
   "outputs": [
    {
     "data": {
      "text/html": [
       "<div>\n",
       "<style scoped>\n",
       "    .dataframe tbody tr th:only-of-type {\n",
       "        vertical-align: middle;\n",
       "    }\n",
       "\n",
       "    .dataframe tbody tr th {\n",
       "        vertical-align: top;\n",
       "    }\n",
       "\n",
       "    .dataframe thead th {\n",
       "        text-align: right;\n",
       "    }\n",
       "</style>\n",
       "<table border=\"1\" class=\"dataframe\">\n",
       "  <thead>\n",
       "    <tr style=\"text-align: right;\">\n",
       "      <th></th>\n",
       "      <th>index</th>\n",
       "      <th>Title</th>\n",
       "      <th>Authors</th>\n",
       "      <th>Description</th>\n",
       "      <th>Category</th>\n",
       "      <th>Publisher</th>\n",
       "      <th>Price Starting With ($)</th>\n",
       "      <th>Publish Date (Month)</th>\n",
       "      <th>Publish Date (Year)</th>\n",
       "      <th>tags</th>\n",
       "    </tr>\n",
       "  </thead>\n",
       "  <tbody>\n",
       "    <tr>\n",
       "      <th>0</th>\n",
       "      <td>7</td>\n",
       "      <td>Journey Through Heartsongs</td>\n",
       "      <td>[Stepanek, MattieJ.T.]</td>\n",
       "      <td>[Collects, poems, written, by, the, eleven-yea...</td>\n",
       "      <td>[Poetry, General]</td>\n",
       "      <td>VSP Books</td>\n",
       "      <td>19.96</td>\n",
       "      <td>September</td>\n",
       "      <td>2001</td>\n",
       "      <td>[Stepanek, MattieJ.T., Collects, poems, writte...</td>\n",
       "    </tr>\n",
       "    <tr>\n",
       "      <th>1</th>\n",
       "      <td>8</td>\n",
       "      <td>In Search of Melancholy Baby</td>\n",
       "      <td>[Aksyonov, Vassily, Heim, MichaelHenry, andBou...</td>\n",
       "      <td>[The, Russian, author, offers, an, affectionat...</td>\n",
       "      <td>[BiographyAutobiography, General]</td>\n",
       "      <td>Random House</td>\n",
       "      <td>4.99</td>\n",
       "      <td>June</td>\n",
       "      <td>1987</td>\n",
       "      <td>[Aksyonov, Vassily, Heim, MichaelHenry, andBou...</td>\n",
       "    </tr>\n",
       "    <tr>\n",
       "      <th>2</th>\n",
       "      <td>10</td>\n",
       "      <td>The Dieter's Guide to Weight Loss During Sex</td>\n",
       "      <td>[Smith, Richard]</td>\n",
       "      <td>[A, humor, classic,, this, tongue-in-cheek, di...</td>\n",
       "      <td>[HealthFitness, DietNutrition, Diets]</td>\n",
       "      <td>Workman Publishing Company</td>\n",
       "      <td>4.99</td>\n",
       "      <td>January</td>\n",
       "      <td>1978</td>\n",
       "      <td>[Smith, Richard, A, humor, classic,, this, ton...</td>\n",
       "    </tr>\n",
       "    <tr>\n",
       "      <th>3</th>\n",
       "      <td>11</td>\n",
       "      <td>Germs : Biological Weapons and America's Secre...</td>\n",
       "      <td>[Miller, Judith, Engelberg, Stephen, andBroad,...</td>\n",
       "      <td>[Deadly, germs, sprayed, in, shopping, malls,,...</td>\n",
       "      <td>[TechnologyEngineering, MilitaryScience]</td>\n",
       "      <td>Simon &amp; Schuster</td>\n",
       "      <td>4.99</td>\n",
       "      <td>October</td>\n",
       "      <td>2001</td>\n",
       "      <td>[Miller, Judith, Engelberg, Stephen, andBroad,...</td>\n",
       "    </tr>\n",
       "    <tr>\n",
       "      <th>4</th>\n",
       "      <td>13</td>\n",
       "      <td>The Good Book: Reading the Bible with Mind and...</td>\n",
       "      <td>[Gomes, PeterJ.]</td>\n",
       "      <td>[\"The, Bible, and, the, social, and, moral, co...</td>\n",
       "      <td>[Religion, BiblicalBiography, General]</td>\n",
       "      <td>Harper Perennial</td>\n",
       "      <td>5.29</td>\n",
       "      <td>May</td>\n",
       "      <td>1998</td>\n",
       "      <td>[Gomes, PeterJ., \"The, Bible, and, the, social...</td>\n",
       "    </tr>\n",
       "  </tbody>\n",
       "</table>\n",
       "</div>"
      ],
      "text/plain": [
       "   index                                              Title  \\\n",
       "0      7                         Journey Through Heartsongs   \n",
       "1      8                       In Search of Melancholy Baby   \n",
       "2     10       The Dieter's Guide to Weight Loss During Sex   \n",
       "3     11  Germs : Biological Weapons and America's Secre...   \n",
       "4     13  The Good Book: Reading the Bible with Mind and...   \n",
       "\n",
       "                                             Authors  \\\n",
       "0                             [Stepanek, MattieJ.T.]   \n",
       "1  [Aksyonov, Vassily, Heim, MichaelHenry, andBou...   \n",
       "2                                   [Smith, Richard]   \n",
       "3  [Miller, Judith, Engelberg, Stephen, andBroad,...   \n",
       "4                                   [Gomes, PeterJ.]   \n",
       "\n",
       "                                         Description  \\\n",
       "0  [Collects, poems, written, by, the, eleven-yea...   \n",
       "1  [The, Russian, author, offers, an, affectionat...   \n",
       "2  [A, humor, classic,, this, tongue-in-cheek, di...   \n",
       "3  [Deadly, germs, sprayed, in, shopping, malls,,...   \n",
       "4  [\"The, Bible, and, the, social, and, moral, co...   \n",
       "\n",
       "                                   Category                   Publisher  \\\n",
       "0                         [Poetry, General]                   VSP Books   \n",
       "1         [BiographyAutobiography, General]                Random House   \n",
       "2     [HealthFitness, DietNutrition, Diets]  Workman Publishing Company   \n",
       "3  [TechnologyEngineering, MilitaryScience]            Simon & Schuster   \n",
       "4    [Religion, BiblicalBiography, General]            Harper Perennial   \n",
       "\n",
       "   Price Starting With ($) Publish Date (Month)  Publish Date (Year)  \\\n",
       "0                    19.96            September                 2001   \n",
       "1                     4.99                 June                 1987   \n",
       "2                     4.99              January                 1978   \n",
       "3                     4.99              October                 2001   \n",
       "4                     5.29                  May                 1998   \n",
       "\n",
       "                                                tags  \n",
       "0  [Stepanek, MattieJ.T., Collects, poems, writte...  \n",
       "1  [Aksyonov, Vassily, Heim, MichaelHenry, andBou...  \n",
       "2  [Smith, Richard, A, humor, classic,, this, ton...  \n",
       "3  [Miller, Judith, Engelberg, Stephen, andBroad,...  \n",
       "4  [Gomes, PeterJ., \"The, Bible, and, the, social...  "
      ]
     },
     "execution_count": 268,
     "metadata": {},
     "output_type": "execute_result"
    }
   ],
   "source": [
    "books.head()"
   ]
  },
  {
   "cell_type": "code",
   "execution_count": 269,
   "id": "272d9668",
   "metadata": {},
   "outputs": [
    {
     "data": {
      "text/plain": [
       "['Aymar',\n",
       " 'Brandt(EDT)',\n",
       " 'A',\n",
       " 'delightful',\n",
       " 'collection',\n",
       " 'of',\n",
       " 'reflections',\n",
       " 'on',\n",
       " 'the',\n",
       " 'feline',\n",
       " 'contains',\n",
       " 'selections',\n",
       " 'from',\n",
       " 'famous',\n",
       " 'artists,',\n",
       " 'writers,',\n",
       " 'poets,',\n",
       " 'and',\n",
       " 'essayists,',\n",
       " 'such',\n",
       " 'as',\n",
       " 'Pablo',\n",
       " 'Picasso,',\n",
       " 'Rudyard',\n",
       " 'Kipling,',\n",
       " 'T.',\n",
       " 'S.',\n",
       " 'Eliot,',\n",
       " 'and',\n",
       " 'others.',\n",
       " 'Pets',\n",
       " 'Cats',\n",
       " 'General']"
      ]
     },
     "execution_count": 269,
     "metadata": {},
     "output_type": "execute_result"
    }
   ],
   "source": [
    "books['tags'][7]"
   ]
  },
  {
   "cell_type": "code",
   "execution_count": 270,
   "id": "79e0258f",
   "metadata": {},
   "outputs": [],
   "source": [
    "new_books = books[['Title','tags']]"
   ]
  },
  {
   "cell_type": "code",
   "execution_count": 271,
   "id": "2039ae44",
   "metadata": {},
   "outputs": [
    {
     "name": "stderr",
     "output_type": "stream",
     "text": [
      "C:\\Users\\nsude\\AppData\\Local\\Temp\\ipykernel_4240\\4188404544.py:1: SettingWithCopyWarning: \n",
      "A value is trying to be set on a copy of a slice from a DataFrame.\n",
      "Try using .loc[row_indexer,col_indexer] = value instead\n",
      "\n",
      "See the caveats in the documentation: https://pandas.pydata.org/pandas-docs/stable/user_guide/indexing.html#returning-a-view-versus-a-copy\n",
      "  new_books['tags']=new_books['tags'].apply(lambda x :\" \".join(x))\n"
     ]
    }
   ],
   "source": [
    "new_books['tags']=new_books['tags'].apply(lambda x :\" \".join(x))"
   ]
  },
  {
   "cell_type": "code",
   "execution_count": 272,
   "id": "8c0f3bb0",
   "metadata": {},
   "outputs": [
    {
     "data": {
      "text/html": [
       "<div>\n",
       "<style scoped>\n",
       "    .dataframe tbody tr th:only-of-type {\n",
       "        vertical-align: middle;\n",
       "    }\n",
       "\n",
       "    .dataframe tbody tr th {\n",
       "        vertical-align: top;\n",
       "    }\n",
       "\n",
       "    .dataframe thead th {\n",
       "        text-align: right;\n",
       "    }\n",
       "</style>\n",
       "<table border=\"1\" class=\"dataframe\">\n",
       "  <thead>\n",
       "    <tr style=\"text-align: right;\">\n",
       "      <th></th>\n",
       "      <th>Title</th>\n",
       "      <th>tags</th>\n",
       "    </tr>\n",
       "  </thead>\n",
       "  <tbody>\n",
       "    <tr>\n",
       "      <th>0</th>\n",
       "      <td>Journey Through Heartsongs</td>\n",
       "      <td>Stepanek MattieJ.T. Collects poems written by ...</td>\n",
       "    </tr>\n",
       "    <tr>\n",
       "      <th>1</th>\n",
       "      <td>In Search of Melancholy Baby</td>\n",
       "      <td>Aksyonov Vassily Heim MichaelHenry andBouis An...</td>\n",
       "    </tr>\n",
       "    <tr>\n",
       "      <th>2</th>\n",
       "      <td>The Dieter's Guide to Weight Loss During Sex</td>\n",
       "      <td>Smith Richard A humor classic, this tongue-in-...</td>\n",
       "    </tr>\n",
       "    <tr>\n",
       "      <th>3</th>\n",
       "      <td>Germs : Biological Weapons and America's Secre...</td>\n",
       "      <td>Miller Judith Engelberg Stephen andBroad Willi...</td>\n",
       "    </tr>\n",
       "    <tr>\n",
       "      <th>4</th>\n",
       "      <td>The Good Book: Reading the Bible with Mind and...</td>\n",
       "      <td>Gomes PeterJ. \"The Bible and the social and mo...</td>\n",
       "    </tr>\n",
       "  </tbody>\n",
       "</table>\n",
       "</div>"
      ],
      "text/plain": [
       "                                               Title  \\\n",
       "0                         Journey Through Heartsongs   \n",
       "1                       In Search of Melancholy Baby   \n",
       "2       The Dieter's Guide to Weight Loss During Sex   \n",
       "3  Germs : Biological Weapons and America's Secre...   \n",
       "4  The Good Book: Reading the Bible with Mind and...   \n",
       "\n",
       "                                                tags  \n",
       "0  Stepanek MattieJ.T. Collects poems written by ...  \n",
       "1  Aksyonov Vassily Heim MichaelHenry andBouis An...  \n",
       "2  Smith Richard A humor classic, this tongue-in-...  \n",
       "3  Miller Judith Engelberg Stephen andBroad Willi...  \n",
       "4  Gomes PeterJ. \"The Bible and the social and mo...  "
      ]
     },
     "execution_count": 272,
     "metadata": {},
     "output_type": "execute_result"
    }
   ],
   "source": [
    "new_books.head()"
   ]
  },
  {
   "cell_type": "code",
   "execution_count": 273,
   "id": "a3ac8d90",
   "metadata": {},
   "outputs": [
    {
     "data": {
      "text/plain": [
       "'Gertz Bill Gertz, writer for the Moonie-influenced Washington Times newspaper and a reporter with the highest right-wing credentials (including praise from Rush Limbaugh and G. Gordon Liddy on the jacket) uses declassified documents and unnamed Pentagon sources to recount how President Clinton has weakened the military and made innumerable secret deals with \"enemy\" countries. Annotation c. Book News, Inc., Portland, OR (booknews.com) PoliticalScience General'"
      ]
     },
     "execution_count": 273,
     "metadata": {},
     "output_type": "execute_result"
    }
   ],
   "source": [
    "new_books['tags'][8]"
   ]
  },
  {
   "cell_type": "code",
   "execution_count": 274,
   "id": "1735d7fd",
   "metadata": {},
   "outputs": [
    {
     "name": "stderr",
     "output_type": "stream",
     "text": [
      "C:\\Users\\nsude\\AppData\\Local\\Temp\\ipykernel_4240\\913665027.py:1: SettingWithCopyWarning: \n",
      "A value is trying to be set on a copy of a slice from a DataFrame.\n",
      "Try using .loc[row_indexer,col_indexer] = value instead\n",
      "\n",
      "See the caveats in the documentation: https://pandas.pydata.org/pandas-docs/stable/user_guide/indexing.html#returning-a-view-versus-a-copy\n",
      "  new_books['tags'] = new_books['tags'].apply(lambda x:x.lower())\n"
     ]
    }
   ],
   "source": [
    "new_books['tags'] = new_books['tags'].apply(lambda x:x.lower())"
   ]
  },
  {
   "cell_type": "code",
   "execution_count": 275,
   "id": "f17c2773",
   "metadata": {},
   "outputs": [
    {
     "data": {
      "text/plain": [
       "'gertz bill gertz, writer for the moonie-influenced washington times newspaper and a reporter with the highest right-wing credentials (including praise from rush limbaugh and g. gordon liddy on the jacket) uses declassified documents and unnamed pentagon sources to recount how president clinton has weakened the military and made innumerable secret deals with \"enemy\" countries. annotation c. book news, inc., portland, or (booknews.com) politicalscience general'"
      ]
     },
     "execution_count": 275,
     "metadata": {},
     "output_type": "execute_result"
    }
   ],
   "source": [
    "new_books['tags'][8]"
   ]
  },
  {
   "cell_type": "code",
   "execution_count": 276,
   "id": "dc2a36f0",
   "metadata": {},
   "outputs": [
    {
     "data": {
      "text/plain": [
       "'aymar brandt(edt) a delightful collection of reflections on the feline contains selections from famous artists, writers, poets, and essayists, such as pablo picasso, rudyard kipling, t. s. eliot, and others. pets cats general'"
      ]
     },
     "execution_count": 276,
     "metadata": {},
     "output_type": "execute_result"
    }
   ],
   "source": [
    "new_books['tags'][7]"
   ]
  },
  {
   "cell_type": "code",
   "execution_count": 277,
   "id": "a37faa25",
   "metadata": {},
   "outputs": [],
   "source": [
    "import nltk"
   ]
  },
  {
   "cell_type": "code",
   "execution_count": 278,
   "id": "78c116df",
   "metadata": {},
   "outputs": [],
   "source": [
    "from nltk.stem.porter import PorterStemmer\n",
    "ps=PorterStemmer()"
   ]
  },
  {
   "cell_type": "code",
   "execution_count": 279,
   "id": "0bc80b62",
   "metadata": {},
   "outputs": [],
   "source": [
    "def stem(text):\n",
    "    y=[]\n",
    "    \n",
    "    for i in text.split():\n",
    "        y.append(ps.stem(i))\n",
    "        \n",
    "    return \" \".join(y)"
   ]
  },
  {
   "cell_type": "code",
   "execution_count": 280,
   "id": "0bd5badc",
   "metadata": {},
   "outputs": [
    {
     "name": "stderr",
     "output_type": "stream",
     "text": [
      "C:\\Users\\nsude\\AppData\\Local\\Temp\\ipykernel_4240\\249416302.py:1: SettingWithCopyWarning: \n",
      "A value is trying to be set on a copy of a slice from a DataFrame.\n",
      "Try using .loc[row_indexer,col_indexer] = value instead\n",
      "\n",
      "See the caveats in the documentation: https://pandas.pydata.org/pandas-docs/stable/user_guide/indexing.html#returning-a-view-versus-a-copy\n",
      "  new_books['tags'] =new_books['tags'].apply(stem)\n"
     ]
    }
   ],
   "source": [
    "new_books['tags'] =new_books['tags'].apply(stem)"
   ]
  },
  {
   "cell_type": "code",
   "execution_count": 281,
   "id": "19d3ef67",
   "metadata": {},
   "outputs": [],
   "source": [
    "from sklearn.feature_extraction.text import CountVectorizer\n",
    "cv = CountVectorizer(max_features=4000,stop_words='english')"
   ]
  },
  {
   "cell_type": "code",
   "execution_count": 282,
   "id": "a84522c1",
   "metadata": {},
   "outputs": [],
   "source": [
    "vectors = cv.fit_transform(new_books['tags']).toarray()"
   ]
  },
  {
   "cell_type": "code",
   "execution_count": 283,
   "id": "cabb262c",
   "metadata": {},
   "outputs": [
    {
     "data": {
      "text/plain": [
       "array([0, 0, 0, ..., 0, 0, 0], dtype=int64)"
      ]
     },
     "execution_count": 283,
     "metadata": {},
     "output_type": "execute_result"
    }
   ],
   "source": [
    "vectors[7]"
   ]
  },
  {
   "cell_type": "code",
   "execution_count": 284,
   "id": "91f8de57",
   "metadata": {},
   "outputs": [
    {
     "data": {
      "text/plain": [
       "array(['000', '10', '100', ..., 'youth', 'zelda', 'zone'], dtype=object)"
      ]
     },
     "execution_count": 284,
     "metadata": {},
     "output_type": "execute_result"
    }
   ],
   "source": [
    "cv.get_feature_names_out()"
   ]
  },
  {
   "cell_type": "code",
   "execution_count": 285,
   "id": "73ac5449",
   "metadata": {},
   "outputs": [],
   "source": [
    "from sklearn.metrics.pairwise import cosine_similarity"
   ]
  },
  {
   "cell_type": "code",
   "execution_count": 286,
   "id": "b26564ba",
   "metadata": {},
   "outputs": [],
   "source": [
    "similaritytags = cosine_similarity(vectors)"
   ]
  },
  {
   "cell_type": "code",
   "execution_count": 287,
   "id": "32119d38",
   "metadata": {},
   "outputs": [
    {
     "data": {
      "text/plain": [
       "(2000, 2000)"
      ]
     },
     "execution_count": 287,
     "metadata": {},
     "output_type": "execute_result"
    }
   ],
   "source": [
    "similaritytags.shape"
   ]
  },
  {
   "cell_type": "code",
   "execution_count": 288,
   "id": "0f3fdff1",
   "metadata": {},
   "outputs": [
    {
     "data": {
      "text/plain": [
       "[(548, 0.5237229365663818),\n",
       " (129, 0.5033222956847166),\n",
       " (1346, 0.4865336327998412),\n",
       " (1655, 0.4804845310885508),\n",
       " (1147, 0.4526019054848144)]"
      ]
     },
     "execution_count": 288,
     "metadata": {},
     "output_type": "execute_result"
    }
   ],
   "source": [
    "sorted(list(enumerate(similaritytags[0])),reverse=True,key=lambda x:x[1])[1:6]"
   ]
  },
  {
   "cell_type": "code",
   "execution_count": null,
   "id": "a7e7cab8",
   "metadata": {},
   "outputs": [],
   "source": []
  },
  {
   "cell_type": "code",
   "execution_count": 289,
   "id": "ab0ea838",
   "metadata": {},
   "outputs": [],
   "source": [
    "def recommend(book):\n",
    "    book_index = new_books[new_books['Title']==book].index[0]\n",
    "    distances = similaritytags[book_index]\n",
    "    books_list =sorted(list(enumerate(distances)),reverse=True,key=lambda x:x[1])[1:6]\n",
    "    \n",
    "    for i in books_list:\n",
    "        print(new_books.iloc[i[0]].Title)"
   ]
  },
  {
   "cell_type": "code",
   "execution_count": 291,
   "id": "9bac844e",
   "metadata": {},
   "outputs": [
    {
     "name": "stdout",
     "output_type": "stream",
     "text": [
      "277 Secrets Your Cat Wants You to Know: A Cat-alog of Unusual and Useful Information\n",
      "Cats with Attitude\n",
      "Indispensable Cat\n",
      "Mews Items: Amazing but True Cat Stories\n",
      "Making Pet Houses, Carriers & Other Projects\n"
     ]
    }
   ],
   "source": [
    "recommend('Best Cat Stories')"
   ]
  },
  {
   "cell_type": "code",
   "execution_count": 250,
   "id": "acbdde53",
   "metadata": {},
   "outputs": [
    {
     "data": {
      "text/plain": [
       "'Indispensable Cat'"
      ]
     },
     "execution_count": 250,
     "metadata": {},
     "output_type": "execute_result"
    }
   ],
   "source": [
    "new_books.iloc[506].Title"
   ]
  },
  {
   "cell_type": "code",
   "execution_count": null,
   "id": "2bd9d9cc",
   "metadata": {},
   "outputs": [],
   "source": []
  },
  {
   "cell_type": "code",
   "execution_count": null,
   "id": "3207eec9",
   "metadata": {},
   "outputs": [],
   "source": []
  }
 ],
 "metadata": {
  "kernelspec": {
   "display_name": "Python 3 (ipykernel)",
   "language": "python",
   "name": "python3"
  },
  "language_info": {
   "codemirror_mode": {
    "name": "ipython",
    "version": 3
   },
   "file_extension": ".py",
   "mimetype": "text/x-python",
   "name": "python",
   "nbconvert_exporter": "python",
   "pygments_lexer": "ipython3",
   "version": "3.11.5"
  }
 },
 "nbformat": 4,
 "nbformat_minor": 5
}
