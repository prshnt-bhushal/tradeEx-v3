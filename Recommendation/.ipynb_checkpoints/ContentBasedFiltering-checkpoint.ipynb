{
 "cells": [
  {
   "cell_type": "code",
   "execution_count": 1,
   "id": "16545435",
   "metadata": {},
   "outputs": [],
   "source": [
    "import pandas as pd\n",
    "import numpy as np\n",
    "import matplotlib.pyplot as plt\n",
    "import seaborn as sns"
   ]
  },
  {
   "cell_type": "code",
   "execution_count": 139,
   "id": "026c7445",
   "metadata": {},
   "outputs": [],
   "source": [
    "books = pd.read_csv('BooksDatasetClean.csv')"
   ]
  },
  {
   "cell_type": "code",
   "execution_count": null,
   "id": "441dab12",
   "metadata": {},
   "outputs": [],
   "source": []
  },
  {
   "cell_type": "code",
   "execution_count": 140,
   "id": "a19bd010",
   "metadata": {},
   "outputs": [
    {
     "data": {
      "text/html": [
       "<div>\n",
       "<style scoped>\n",
       "    .dataframe tbody tr th:only-of-type {\n",
       "        vertical-align: middle;\n",
       "    }\n",
       "\n",
       "    .dataframe tbody tr th {\n",
       "        vertical-align: top;\n",
       "    }\n",
       "\n",
       "    .dataframe thead th {\n",
       "        text-align: right;\n",
       "    }\n",
       "</style>\n",
       "<table border=\"1\" class=\"dataframe\">\n",
       "  <thead>\n",
       "    <tr style=\"text-align: right;\">\n",
       "      <th></th>\n",
       "      <th>Title</th>\n",
       "      <th>Authors</th>\n",
       "      <th>Description</th>\n",
       "      <th>Category</th>\n",
       "      <th>Publisher</th>\n",
       "      <th>Price Starting With ($)</th>\n",
       "      <th>Publish Date (Month)</th>\n",
       "      <th>Publish Date (Year)</th>\n",
       "    </tr>\n",
       "  </thead>\n",
       "  <tbody>\n",
       "    <tr>\n",
       "      <th>0</th>\n",
       "      <td>Goat Brothers</td>\n",
       "      <td>By Colton, Larry</td>\n",
       "      <td>NaN</td>\n",
       "      <td>History , General</td>\n",
       "      <td>Doubleday</td>\n",
       "      <td>8.79</td>\n",
       "      <td>January</td>\n",
       "      <td>1993</td>\n",
       "    </tr>\n",
       "    <tr>\n",
       "      <th>1</th>\n",
       "      <td>The Missing Person</td>\n",
       "      <td>By Grumbach, Doris</td>\n",
       "      <td>NaN</td>\n",
       "      <td>Fiction , General</td>\n",
       "      <td>Putnam Pub Group</td>\n",
       "      <td>4.99</td>\n",
       "      <td>March</td>\n",
       "      <td>1981</td>\n",
       "    </tr>\n",
       "    <tr>\n",
       "      <th>2</th>\n",
       "      <td>Don't Eat Your Heart Out Cookbook</td>\n",
       "      <td>By Piscatella, Joseph C.</td>\n",
       "      <td>NaN</td>\n",
       "      <td>Cooking , Reference</td>\n",
       "      <td>Workman Pub Co</td>\n",
       "      <td>4.99</td>\n",
       "      <td>September</td>\n",
       "      <td>1983</td>\n",
       "    </tr>\n",
       "    <tr>\n",
       "      <th>3</th>\n",
       "      <td>When Your Corporate Umbrella Begins to Leak: A...</td>\n",
       "      <td>By Davis, Paul D.</td>\n",
       "      <td>NaN</td>\n",
       "      <td>NaN</td>\n",
       "      <td>Natl Pr Books</td>\n",
       "      <td>4.99</td>\n",
       "      <td>April</td>\n",
       "      <td>1991</td>\n",
       "    </tr>\n",
       "    <tr>\n",
       "      <th>4</th>\n",
       "      <td>Amy Spangler's Breastfeeding : A Parent's Guide</td>\n",
       "      <td>By Spangler, Amy</td>\n",
       "      <td>NaN</td>\n",
       "      <td>NaN</td>\n",
       "      <td>Amy Spangler</td>\n",
       "      <td>5.32</td>\n",
       "      <td>February</td>\n",
       "      <td>1997</td>\n",
       "    </tr>\n",
       "    <tr>\n",
       "      <th>...</th>\n",
       "      <td>...</td>\n",
       "      <td>...</td>\n",
       "      <td>...</td>\n",
       "      <td>...</td>\n",
       "      <td>...</td>\n",
       "      <td>...</td>\n",
       "      <td>...</td>\n",
       "      <td>...</td>\n",
       "    </tr>\n",
       "    <tr>\n",
       "      <th>103058</th>\n",
       "      <td>Build 3 Super Serving Carts</td>\n",
       "      <td>By Chuck Hampton</td>\n",
       "      <td>NaN</td>\n",
       "      <td>NaN</td>\n",
       "      <td>ENDesigns Inc.</td>\n",
       "      <td>9.97</td>\n",
       "      <td>January</td>\n",
       "      <td>1992</td>\n",
       "    </tr>\n",
       "    <tr>\n",
       "      <th>103059</th>\n",
       "      <td>My Land of Israel</td>\n",
       "      <td>By Nover, Elizabeth Z.</td>\n",
       "      <td>NaN</td>\n",
       "      <td>Juvenile Nonfiction , People &amp; Places , Middl...</td>\n",
       "      <td>Behrman House</td>\n",
       "      <td>4.99</td>\n",
       "      <td>May</td>\n",
       "      <td>1987</td>\n",
       "    </tr>\n",
       "    <tr>\n",
       "      <th>103060</th>\n",
       "      <td>Tongues: To Speak or Not to Speak</td>\n",
       "      <td>By Donald W. Burdick</td>\n",
       "      <td>NaN</td>\n",
       "      <td>NaN</td>\n",
       "      <td>Moody Press</td>\n",
       "      <td>5.29</td>\n",
       "      <td>January</td>\n",
       "      <td>1969</td>\n",
       "    </tr>\n",
       "    <tr>\n",
       "      <th>103061</th>\n",
       "      <td>If I'm in charge here why is everybody laughing?</td>\n",
       "      <td>By Campbell, David P.</td>\n",
       "      <td>NaN</td>\n",
       "      <td>NaN</td>\n",
       "      <td>Argus Communications</td>\n",
       "      <td>4.99</td>\n",
       "      <td>January</td>\n",
       "      <td>1980</td>\n",
       "    </tr>\n",
       "    <tr>\n",
       "      <th>103062</th>\n",
       "      <td>Your First Puppy (Your First Series)</td>\n",
       "      <td>By Carpentier, Marcel</td>\n",
       "      <td>An introduction to the proper care of puppies ...</td>\n",
       "      <td>Pets , Dogs , General</td>\n",
       "      <td>Tfh Pubns Inc</td>\n",
       "      <td>4.99</td>\n",
       "      <td>November</td>\n",
       "      <td>1991</td>\n",
       "    </tr>\n",
       "  </tbody>\n",
       "</table>\n",
       "<p>103063 rows × 8 columns</p>\n",
       "</div>"
      ],
      "text/plain": [
       "                                                    Title  \\\n",
       "0                                           Goat Brothers   \n",
       "1                                      The Missing Person   \n",
       "2                       Don't Eat Your Heart Out Cookbook   \n",
       "3       When Your Corporate Umbrella Begins to Leak: A...   \n",
       "4         Amy Spangler's Breastfeeding : A Parent's Guide   \n",
       "...                                                   ...   \n",
       "103058                        Build 3 Super Serving Carts   \n",
       "103059                                  My Land of Israel   \n",
       "103060                  Tongues: To Speak or Not to Speak   \n",
       "103061   If I'm in charge here why is everybody laughing?   \n",
       "103062               Your First Puppy (Your First Series)   \n",
       "\n",
       "                         Authors  \\\n",
       "0               By Colton, Larry   \n",
       "1             By Grumbach, Doris   \n",
       "2       By Piscatella, Joseph C.   \n",
       "3              By Davis, Paul D.   \n",
       "4               By Spangler, Amy   \n",
       "...                          ...   \n",
       "103058          By Chuck Hampton   \n",
       "103059    By Nover, Elizabeth Z.   \n",
       "103060      By Donald W. Burdick   \n",
       "103061     By Campbell, David P.   \n",
       "103062     By Carpentier, Marcel   \n",
       "\n",
       "                                              Description  \\\n",
       "0                                                     NaN   \n",
       "1                                                     NaN   \n",
       "2                                                     NaN   \n",
       "3                                                     NaN   \n",
       "4                                                     NaN   \n",
       "...                                                   ...   \n",
       "103058                                                NaN   \n",
       "103059                                                NaN   \n",
       "103060                                                NaN   \n",
       "103061                                                NaN   \n",
       "103062  An introduction to the proper care of puppies ...   \n",
       "\n",
       "                                                 Category  \\\n",
       "0                                       History , General   \n",
       "1                                       Fiction , General   \n",
       "2                                     Cooking , Reference   \n",
       "3                                                     NaN   \n",
       "4                                                     NaN   \n",
       "...                                                   ...   \n",
       "103058                                                NaN   \n",
       "103059   Juvenile Nonfiction , People & Places , Middl...   \n",
       "103060                                                NaN   \n",
       "103061                                                NaN   \n",
       "103062                              Pets , Dogs , General   \n",
       "\n",
       "                   Publisher  Price Starting With ($) Publish Date (Month)  \\\n",
       "0                  Doubleday                     8.79              January   \n",
       "1           Putnam Pub Group                     4.99                March   \n",
       "2             Workman Pub Co                     4.99            September   \n",
       "3              Natl Pr Books                     4.99                April   \n",
       "4               Amy Spangler                     5.32             February   \n",
       "...                      ...                      ...                  ...   \n",
       "103058        ENDesigns Inc.                     9.97              January   \n",
       "103059         Behrman House                     4.99                  May   \n",
       "103060           Moody Press                     5.29              January   \n",
       "103061  Argus Communications                     4.99              January   \n",
       "103062         Tfh Pubns Inc                     4.99             November   \n",
       "\n",
       "        Publish Date (Year)  \n",
       "0                      1993  \n",
       "1                      1981  \n",
       "2                      1983  \n",
       "3                      1991  \n",
       "4                      1997  \n",
       "...                     ...  \n",
       "103058                 1992  \n",
       "103059                 1987  \n",
       "103060                 1969  \n",
       "103061                 1980  \n",
       "103062                 1991  \n",
       "\n",
       "[103063 rows x 8 columns]"
      ]
     },
     "execution_count": 140,
     "metadata": {},
     "output_type": "execute_result"
    }
   ],
   "source": [
    "books"
   ]
  },
  {
   "cell_type": "code",
   "execution_count": 141,
   "id": "4cef46b4",
   "metadata": {},
   "outputs": [
    {
     "data": {
      "text/plain": [
       "Title                          0\n",
       "Authors                        0\n",
       "Description                32859\n",
       "Category                   26161\n",
       "Publisher                      8\n",
       "Price Starting With ($)        0\n",
       "Publish Date (Month)           0\n",
       "Publish Date (Year)            0\n",
       "dtype: int64"
      ]
     },
     "execution_count": 141,
     "metadata": {},
     "output_type": "execute_result"
    }
   ],
   "source": [
    "books.isnull().sum()"
   ]
  },
  {
   "cell_type": "code",
   "execution_count": 142,
   "id": "58f7ce77",
   "metadata": {},
   "outputs": [
    {
     "data": {
      "text/plain": [
       "0"
      ]
     },
     "execution_count": 142,
     "metadata": {},
     "output_type": "execute_result"
    }
   ],
   "source": [
    "books.duplicated().sum()"
   ]
  },
  {
   "cell_type": "code",
   "execution_count": 143,
   "id": "d29bc44b",
   "metadata": {},
   "outputs": [],
   "source": [
    "books.dropna(inplace= True)"
   ]
  },
  {
   "cell_type": "code",
   "execution_count": 144,
   "id": "8ec31a8c",
   "metadata": {},
   "outputs": [],
   "source": [
    "books=books.head(2000)"
   ]
  },
  {
   "cell_type": "code",
   "execution_count": 145,
   "id": "be01939e",
   "metadata": {},
   "outputs": [
    {
     "data": {
      "text/plain": [
       "(2000, 8)"
      ]
     },
     "execution_count": 145,
     "metadata": {},
     "output_type": "execute_result"
    }
   ],
   "source": [
    "books.shape"
   ]
  },
  {
   "cell_type": "code",
   "execution_count": 146,
   "id": "129b2bfd",
   "metadata": {},
   "outputs": [
    {
     "name": "stderr",
     "output_type": "stream",
     "text": [
      "C:\\Users\\nsude\\AppData\\Local\\Temp\\ipykernel_4240\\3236907727.py:1: SettingWithCopyWarning: \n",
      "A value is trying to be set on a copy of a slice from a DataFrame.\n",
      "Try using .loc[row_indexer,col_indexer] = value instead\n",
      "\n",
      "See the caveats in the documentation: https://pandas.pydata.org/pandas-docs/stable/user_guide/indexing.html#returning-a-view-versus-a-copy\n",
      "  books['Description'] = books['Description'].apply(lambda x:x.split())\n",
      "C:\\Users\\nsude\\AppData\\Local\\Temp\\ipykernel_4240\\3236907727.py:2: SettingWithCopyWarning: \n",
      "A value is trying to be set on a copy of a slice from a DataFrame.\n",
      "Try using .loc[row_indexer,col_indexer] = value instead\n",
      "\n",
      "See the caveats in the documentation: https://pandas.pydata.org/pandas-docs/stable/user_guide/indexing.html#returning-a-view-versus-a-copy\n",
      "  books['Category'] = books['Category'].apply(lambda x:x.split(\",\"))\n"
     ]
    }
   ],
   "source": [
    "books['Description'] = books['Description'].apply(lambda x:x.split())\n",
    "books['Category'] = books['Category'].apply(lambda x:x.split(\",\"))"
   ]
  },
  {
   "cell_type": "code",
   "execution_count": 147,
   "id": "a0ccffda",
   "metadata": {},
   "outputs": [
    {
     "name": "stderr",
     "output_type": "stream",
     "text": [
      "C:\\Users\\nsude\\AppData\\Local\\Temp\\ipykernel_4240\\3995842446.py:1: SettingWithCopyWarning: \n",
      "A value is trying to be set on a copy of a slice from a DataFrame.\n",
      "Try using .loc[row_indexer,col_indexer] = value instead\n",
      "\n",
      "See the caveats in the documentation: https://pandas.pydata.org/pandas-docs/stable/user_guide/indexing.html#returning-a-view-versus-a-copy\n",
      "  books['Category'] = books['Category'].apply(lambda x:[i.replace(\"&\",\"\") for i in x])\n",
      "C:\\Users\\nsude\\AppData\\Local\\Temp\\ipykernel_4240\\3995842446.py:2: SettingWithCopyWarning: \n",
      "A value is trying to be set on a copy of a slice from a DataFrame.\n",
      "Try using .loc[row_indexer,col_indexer] = value instead\n",
      "\n",
      "See the caveats in the documentation: https://pandas.pydata.org/pandas-docs/stable/user_guide/indexing.html#returning-a-view-versus-a-copy\n",
      "  books['Category'] = books['Category'].apply(lambda x:[i.replace(\" \",\"\") for i in x])\n"
     ]
    }
   ],
   "source": [
    "books['Category'] = books['Category'].apply(lambda x:[i.replace(\"&\",\"\") for i in x])\n",
    "books['Category'] = books['Category'].apply(lambda x:[i.replace(\" \",\"\") for i in x])"
   ]
  },
  {
   "cell_type": "code",
   "execution_count": 148,
   "id": "7fc7fbac",
   "metadata": {},
   "outputs": [
    {
     "name": "stderr",
     "output_type": "stream",
     "text": [
      "C:\\Users\\nsude\\AppData\\Local\\Temp\\ipykernel_4240\\683557671.py:1: SettingWithCopyWarning: \n",
      "A value is trying to be set on a copy of a slice from a DataFrame.\n",
      "Try using .loc[row_indexer,col_indexer] = value instead\n",
      "\n",
      "See the caveats in the documentation: https://pandas.pydata.org/pandas-docs/stable/user_guide/indexing.html#returning-a-view-versus-a-copy\n",
      "  books['Authors'] = books['Authors'].apply(lambda x:x.split(\",\"))\n"
     ]
    }
   ],
   "source": [
    "books['Authors'] = books['Authors'].apply(lambda x:x.split(\",\"))"
   ]
  },
  {
   "cell_type": "code",
   "execution_count": 149,
   "id": "42ecafe7",
   "metadata": {},
   "outputs": [
    {
     "name": "stderr",
     "output_type": "stream",
     "text": [
      "C:\\Users\\nsude\\AppData\\Local\\Temp\\ipykernel_4240\\2410157644.py:1: SettingWithCopyWarning: \n",
      "A value is trying to be set on a copy of a slice from a DataFrame.\n",
      "Try using .loc[row_indexer,col_indexer] = value instead\n",
      "\n",
      "See the caveats in the documentation: https://pandas.pydata.org/pandas-docs/stable/user_guide/indexing.html#returning-a-view-versus-a-copy\n",
      "  books['Authors'] = books['Authors'].apply(lambda x:[i.replace(\"By\",\"\") for i in x])\n",
      "C:\\Users\\nsude\\AppData\\Local\\Temp\\ipykernel_4240\\2410157644.py:2: SettingWithCopyWarning: \n",
      "A value is trying to be set on a copy of a slice from a DataFrame.\n",
      "Try using .loc[row_indexer,col_indexer] = value instead\n",
      "\n",
      "See the caveats in the documentation: https://pandas.pydata.org/pandas-docs/stable/user_guide/indexing.html#returning-a-view-versus-a-copy\n",
      "  books['Authors'] = books['Authors'].apply(lambda x:[i.replace(\" \",\"\") for i in x])\n"
     ]
    }
   ],
   "source": [
    "books['Authors'] = books['Authors'].apply(lambda x:[i.replace(\"By\",\"\") for i in x])\n",
    "books['Authors'] = books['Authors'].apply(lambda x:[i.replace(\" \",\"\") for i in x])"
   ]
  },
  {
   "cell_type": "code",
   "execution_count": 150,
   "id": "45457c1d",
   "metadata": {},
   "outputs": [
    {
     "data": {
      "text/html": [
       "<div>\n",
       "<style scoped>\n",
       "    .dataframe tbody tr th:only-of-type {\n",
       "        vertical-align: middle;\n",
       "    }\n",
       "\n",
       "    .dataframe tbody tr th {\n",
       "        vertical-align: top;\n",
       "    }\n",
       "\n",
       "    .dataframe thead th {\n",
       "        text-align: right;\n",
       "    }\n",
       "</style>\n",
       "<table border=\"1\" class=\"dataframe\">\n",
       "  <thead>\n",
       "    <tr style=\"text-align: right;\">\n",
       "      <th></th>\n",
       "      <th>Title</th>\n",
       "      <th>Authors</th>\n",
       "      <th>Description</th>\n",
       "      <th>Category</th>\n",
       "      <th>Publisher</th>\n",
       "      <th>Price Starting With ($)</th>\n",
       "      <th>Publish Date (Month)</th>\n",
       "      <th>Publish Date (Year)</th>\n",
       "    </tr>\n",
       "  </thead>\n",
       "  <tbody>\n",
       "    <tr>\n",
       "      <th>7</th>\n",
       "      <td>Journey Through Heartsongs</td>\n",
       "      <td>[Stepanek, MattieJ.T.]</td>\n",
       "      <td>[Collects, poems, written, by, the, eleven-yea...</td>\n",
       "      <td>[Poetry, General]</td>\n",
       "      <td>VSP Books</td>\n",
       "      <td>19.96</td>\n",
       "      <td>September</td>\n",
       "      <td>2001</td>\n",
       "    </tr>\n",
       "    <tr>\n",
       "      <th>8</th>\n",
       "      <td>In Search of Melancholy Baby</td>\n",
       "      <td>[Aksyonov, Vassily, Heim, MichaelHenry, andBou...</td>\n",
       "      <td>[The, Russian, author, offers, an, affectionat...</td>\n",
       "      <td>[BiographyAutobiography, General]</td>\n",
       "      <td>Random House</td>\n",
       "      <td>4.99</td>\n",
       "      <td>June</td>\n",
       "      <td>1987</td>\n",
       "    </tr>\n",
       "    <tr>\n",
       "      <th>10</th>\n",
       "      <td>The Dieter's Guide to Weight Loss During Sex</td>\n",
       "      <td>[Smith, Richard]</td>\n",
       "      <td>[A, humor, classic,, this, tongue-in-cheek, di...</td>\n",
       "      <td>[HealthFitness, DietNutrition, Diets]</td>\n",
       "      <td>Workman Publishing Company</td>\n",
       "      <td>4.99</td>\n",
       "      <td>January</td>\n",
       "      <td>1978</td>\n",
       "    </tr>\n",
       "    <tr>\n",
       "      <th>11</th>\n",
       "      <td>Germs : Biological Weapons and America's Secre...</td>\n",
       "      <td>[Miller, Judith, Engelberg, Stephen, andBroad,...</td>\n",
       "      <td>[Deadly, germs, sprayed, in, shopping, malls,,...</td>\n",
       "      <td>[TechnologyEngineering, MilitaryScience]</td>\n",
       "      <td>Simon &amp; Schuster</td>\n",
       "      <td>4.99</td>\n",
       "      <td>October</td>\n",
       "      <td>2001</td>\n",
       "    </tr>\n",
       "    <tr>\n",
       "      <th>13</th>\n",
       "      <td>The Good Book: Reading the Bible with Mind and...</td>\n",
       "      <td>[Gomes, PeterJ.]</td>\n",
       "      <td>[\"The, Bible, and, the, social, and, moral, co...</td>\n",
       "      <td>[Religion, BiblicalBiography, General]</td>\n",
       "      <td>Harper Perennial</td>\n",
       "      <td>5.29</td>\n",
       "      <td>May</td>\n",
       "      <td>1998</td>\n",
       "    </tr>\n",
       "    <tr>\n",
       "      <th>...</th>\n",
       "      <td>...</td>\n",
       "      <td>...</td>\n",
       "      <td>...</td>\n",
       "      <td>...</td>\n",
       "      <td>...</td>\n",
       "      <td>...</td>\n",
       "      <td>...</td>\n",
       "      <td>...</td>\n",
       "    </tr>\n",
       "    <tr>\n",
       "      <th>3253</th>\n",
       "      <td>Cuisines of Europe (No. 06440)</td>\n",
       "      <td>[Schmaeling, Tony]</td>\n",
       "      <td>[Provides, recipes, for, appetizers,, soups,, ...</td>\n",
       "      <td>[Cooking, General]</td>\n",
       "      <td>Bookthrift Co</td>\n",
       "      <td>7.46</td>\n",
       "      <td>February</td>\n",
       "      <td>1984</td>\n",
       "    </tr>\n",
       "    <tr>\n",
       "      <th>3258</th>\n",
       "      <td>The Fur-Bearing Animals of North America</td>\n",
       "      <td>[Rue, LeonardLee]</td>\n",
       "      <td>[Using, black-and-white, photographs,, a, stan...</td>\n",
       "      <td>[Science, General]</td>\n",
       "      <td>Crown Pub</td>\n",
       "      <td>19.25</td>\n",
       "      <td>August</td>\n",
       "      <td>1984</td>\n",
       "    </tr>\n",
       "    <tr>\n",
       "      <th>3259</th>\n",
       "      <td>A Clear Conscience</td>\n",
       "      <td>[Fyfield, Frances]</td>\n",
       "      <td>[Fyfield, takes, us, back, into, the, life, an...</td>\n",
       "      <td>[Fiction, MysteryDetective, General]</td>\n",
       "      <td>Pantheon Books</td>\n",
       "      <td>5.29</td>\n",
       "      <td>March</td>\n",
       "      <td>1995</td>\n",
       "    </tr>\n",
       "    <tr>\n",
       "      <th>3260</th>\n",
       "      <td>New Complete Guide to Gardening (Better Homes ...</td>\n",
       "      <td>[Roth, SusanA.]</td>\n",
       "      <td>[An, invaluable, reference, for, both, novice,...</td>\n",
       "      <td>[Gardening, General]</td>\n",
       "      <td>Better Homes and Gardens</td>\n",
       "      <td>8.77</td>\n",
       "      <td>November</td>\n",
       "      <td>1997</td>\n",
       "    </tr>\n",
       "    <tr>\n",
       "      <th>3263</th>\n",
       "      <td>Soar Above the Madness: Surviving Office Polit...</td>\n",
       "      <td>[Drennan, MiriamandAnderson, Joel]</td>\n",
       "      <td>[Success,, motivation,, and, teamwork, are, th...</td>\n",
       "      <td>[Humor, Form, Parodies]</td>\n",
       "      <td>Rutledge Hill Pr</td>\n",
       "      <td>5.29</td>\n",
       "      <td>March</td>\n",
       "      <td>2002</td>\n",
       "    </tr>\n",
       "  </tbody>\n",
       "</table>\n",
       "<p>2000 rows × 8 columns</p>\n",
       "</div>"
      ],
      "text/plain": [
       "                                                  Title  \\\n",
       "7                            Journey Through Heartsongs   \n",
       "8                          In Search of Melancholy Baby   \n",
       "10         The Dieter's Guide to Weight Loss During Sex   \n",
       "11    Germs : Biological Weapons and America's Secre...   \n",
       "13    The Good Book: Reading the Bible with Mind and...   \n",
       "...                                                 ...   \n",
       "3253                     Cuisines of Europe (No. 06440)   \n",
       "3258           The Fur-Bearing Animals of North America   \n",
       "3259                                 A Clear Conscience   \n",
       "3260  New Complete Guide to Gardening (Better Homes ...   \n",
       "3263  Soar Above the Madness: Surviving Office Polit...   \n",
       "\n",
       "                                                Authors  \\\n",
       "7                                [Stepanek, MattieJ.T.]   \n",
       "8     [Aksyonov, Vassily, Heim, MichaelHenry, andBou...   \n",
       "10                                     [Smith, Richard]   \n",
       "11    [Miller, Judith, Engelberg, Stephen, andBroad,...   \n",
       "13                                     [Gomes, PeterJ.]   \n",
       "...                                                 ...   \n",
       "3253                                 [Schmaeling, Tony]   \n",
       "3258                                  [Rue, LeonardLee]   \n",
       "3259                                 [Fyfield, Frances]   \n",
       "3260                                    [Roth, SusanA.]   \n",
       "3263                 [Drennan, MiriamandAnderson, Joel]   \n",
       "\n",
       "                                            Description  \\\n",
       "7     [Collects, poems, written, by, the, eleven-yea...   \n",
       "8     [The, Russian, author, offers, an, affectionat...   \n",
       "10    [A, humor, classic,, this, tongue-in-cheek, di...   \n",
       "11    [Deadly, germs, sprayed, in, shopping, malls,,...   \n",
       "13    [\"The, Bible, and, the, social, and, moral, co...   \n",
       "...                                                 ...   \n",
       "3253  [Provides, recipes, for, appetizers,, soups,, ...   \n",
       "3258  [Using, black-and-white, photographs,, a, stan...   \n",
       "3259  [Fyfield, takes, us, back, into, the, life, an...   \n",
       "3260  [An, invaluable, reference, for, both, novice,...   \n",
       "3263  [Success,, motivation,, and, teamwork, are, th...   \n",
       "\n",
       "                                      Category                   Publisher  \\\n",
       "7                            [Poetry, General]                   VSP Books   \n",
       "8            [BiographyAutobiography, General]                Random House   \n",
       "10       [HealthFitness, DietNutrition, Diets]  Workman Publishing Company   \n",
       "11    [TechnologyEngineering, MilitaryScience]            Simon & Schuster   \n",
       "13      [Religion, BiblicalBiography, General]            Harper Perennial   \n",
       "...                                        ...                         ...   \n",
       "3253                        [Cooking, General]               Bookthrift Co   \n",
       "3258                        [Science, General]                   Crown Pub   \n",
       "3259      [Fiction, MysteryDetective, General]              Pantheon Books   \n",
       "3260                      [Gardening, General]    Better Homes and Gardens   \n",
       "3263                   [Humor, Form, Parodies]            Rutledge Hill Pr   \n",
       "\n",
       "      Price Starting With ($) Publish Date (Month)  Publish Date (Year)  \n",
       "7                       19.96            September                 2001  \n",
       "8                        4.99                 June                 1987  \n",
       "10                       4.99              January                 1978  \n",
       "11                       4.99              October                 2001  \n",
       "13                       5.29                  May                 1998  \n",
       "...                       ...                  ...                  ...  \n",
       "3253                     7.46             February                 1984  \n",
       "3258                    19.25               August                 1984  \n",
       "3259                     5.29                March                 1995  \n",
       "3260                     8.77             November                 1997  \n",
       "3263                     5.29                March                 2002  \n",
       "\n",
       "[2000 rows x 8 columns]"
      ]
     },
     "execution_count": 150,
     "metadata": {},
     "output_type": "execute_result"
    }
   ],
   "source": [
    "books"
   ]
  },
  {
   "cell_type": "code",
   "execution_count": 151,
   "id": "5ff6c918",
   "metadata": {},
   "outputs": [
    {
     "data": {
      "text/plain": [
       "(2000, 8)"
      ]
     },
     "execution_count": 151,
     "metadata": {},
     "output_type": "execute_result"
    }
   ],
   "source": [
    "books.shape"
   ]
  },
  {
   "cell_type": "code",
   "execution_count": 152,
   "id": "9eff8205",
   "metadata": {},
   "outputs": [
    {
     "data": {
      "text/html": [
       "<div>\n",
       "<style scoped>\n",
       "    .dataframe tbody tr th:only-of-type {\n",
       "        vertical-align: middle;\n",
       "    }\n",
       "\n",
       "    .dataframe tbody tr th {\n",
       "        vertical-align: top;\n",
       "    }\n",
       "\n",
       "    .dataframe thead th {\n",
       "        text-align: right;\n",
       "    }\n",
       "</style>\n",
       "<table border=\"1\" class=\"dataframe\">\n",
       "  <thead>\n",
       "    <tr style=\"text-align: right;\">\n",
       "      <th></th>\n",
       "      <th>Title</th>\n",
       "      <th>Authors</th>\n",
       "      <th>Description</th>\n",
       "      <th>Category</th>\n",
       "      <th>Publisher</th>\n",
       "      <th>Price Starting With ($)</th>\n",
       "      <th>Publish Date (Month)</th>\n",
       "      <th>Publish Date (Year)</th>\n",
       "    </tr>\n",
       "  </thead>\n",
       "  <tbody>\n",
       "    <tr>\n",
       "      <th>7</th>\n",
       "      <td>Journey Through Heartsongs</td>\n",
       "      <td>[Stepanek, MattieJ.T.]</td>\n",
       "      <td>[Collects, poems, written, by, the, eleven-yea...</td>\n",
       "      <td>[Poetry, General]</td>\n",
       "      <td>VSP Books</td>\n",
       "      <td>19.96</td>\n",
       "      <td>September</td>\n",
       "      <td>2001</td>\n",
       "    </tr>\n",
       "    <tr>\n",
       "      <th>8</th>\n",
       "      <td>In Search of Melancholy Baby</td>\n",
       "      <td>[Aksyonov, Vassily, Heim, MichaelHenry, andBou...</td>\n",
       "      <td>[The, Russian, author, offers, an, affectionat...</td>\n",
       "      <td>[BiographyAutobiography, General]</td>\n",
       "      <td>Random House</td>\n",
       "      <td>4.99</td>\n",
       "      <td>June</td>\n",
       "      <td>1987</td>\n",
       "    </tr>\n",
       "    <tr>\n",
       "      <th>10</th>\n",
       "      <td>The Dieter's Guide to Weight Loss During Sex</td>\n",
       "      <td>[Smith, Richard]</td>\n",
       "      <td>[A, humor, classic,, this, tongue-in-cheek, di...</td>\n",
       "      <td>[HealthFitness, DietNutrition, Diets]</td>\n",
       "      <td>Workman Publishing Company</td>\n",
       "      <td>4.99</td>\n",
       "      <td>January</td>\n",
       "      <td>1978</td>\n",
       "    </tr>\n",
       "    <tr>\n",
       "      <th>11</th>\n",
       "      <td>Germs : Biological Weapons and America's Secre...</td>\n",
       "      <td>[Miller, Judith, Engelberg, Stephen, andBroad,...</td>\n",
       "      <td>[Deadly, germs, sprayed, in, shopping, malls,,...</td>\n",
       "      <td>[TechnologyEngineering, MilitaryScience]</td>\n",
       "      <td>Simon &amp; Schuster</td>\n",
       "      <td>4.99</td>\n",
       "      <td>October</td>\n",
       "      <td>2001</td>\n",
       "    </tr>\n",
       "    <tr>\n",
       "      <th>13</th>\n",
       "      <td>The Good Book: Reading the Bible with Mind and...</td>\n",
       "      <td>[Gomes, PeterJ.]</td>\n",
       "      <td>[\"The, Bible, and, the, social, and, moral, co...</td>\n",
       "      <td>[Religion, BiblicalBiography, General]</td>\n",
       "      <td>Harper Perennial</td>\n",
       "      <td>5.29</td>\n",
       "      <td>May</td>\n",
       "      <td>1998</td>\n",
       "    </tr>\n",
       "  </tbody>\n",
       "</table>\n",
       "</div>"
      ],
      "text/plain": [
       "                                                Title  \\\n",
       "7                          Journey Through Heartsongs   \n",
       "8                        In Search of Melancholy Baby   \n",
       "10       The Dieter's Guide to Weight Loss During Sex   \n",
       "11  Germs : Biological Weapons and America's Secre...   \n",
       "13  The Good Book: Reading the Bible with Mind and...   \n",
       "\n",
       "                                              Authors  \\\n",
       "7                              [Stepanek, MattieJ.T.]   \n",
       "8   [Aksyonov, Vassily, Heim, MichaelHenry, andBou...   \n",
       "10                                   [Smith, Richard]   \n",
       "11  [Miller, Judith, Engelberg, Stephen, andBroad,...   \n",
       "13                                   [Gomes, PeterJ.]   \n",
       "\n",
       "                                          Description  \\\n",
       "7   [Collects, poems, written, by, the, eleven-yea...   \n",
       "8   [The, Russian, author, offers, an, affectionat...   \n",
       "10  [A, humor, classic,, this, tongue-in-cheek, di...   \n",
       "11  [Deadly, germs, sprayed, in, shopping, malls,,...   \n",
       "13  [\"The, Bible, and, the, social, and, moral, co...   \n",
       "\n",
       "                                    Category                   Publisher  \\\n",
       "7                          [Poetry, General]                   VSP Books   \n",
       "8          [BiographyAutobiography, General]                Random House   \n",
       "10     [HealthFitness, DietNutrition, Diets]  Workman Publishing Company   \n",
       "11  [TechnologyEngineering, MilitaryScience]            Simon & Schuster   \n",
       "13    [Religion, BiblicalBiography, General]            Harper Perennial   \n",
       "\n",
       "    Price Starting With ($) Publish Date (Month)  Publish Date (Year)  \n",
       "7                     19.96            September                 2001  \n",
       "8                      4.99                 June                 1987  \n",
       "10                     4.99              January                 1978  \n",
       "11                     4.99              October                 2001  \n",
       "13                     5.29                  May                 1998  "
      ]
     },
     "execution_count": 152,
     "metadata": {},
     "output_type": "execute_result"
    }
   ],
   "source": [
    "books.head()"
   ]
  },
  {
   "cell_type": "code",
   "execution_count": 153,
   "id": "6b056509",
   "metadata": {},
   "outputs": [
    {
     "data": {
      "text/plain": [
       "7                                  [Stepanek, MattieJ.T.]\n",
       "8       [Aksyonov, Vassily, Heim, MichaelHenry, andBou...\n",
       "10                                       [Smith, Richard]\n",
       "11      [Miller, Judith, Engelberg, Stephen, andBroad,...\n",
       "13                                       [Gomes, PeterJ.]\n",
       "                              ...                        \n",
       "3253                                   [Schmaeling, Tony]\n",
       "3258                                    [Rue, LeonardLee]\n",
       "3259                                   [Fyfield, Frances]\n",
       "3260                                      [Roth, SusanA.]\n",
       "3263                   [Drennan, MiriamandAnderson, Joel]\n",
       "Name: Authors, Length: 2000, dtype: object"
      ]
     },
     "execution_count": 153,
     "metadata": {},
     "output_type": "execute_result"
    }
   ],
   "source": [
    "books['Authors']"
   ]
  },
  {
   "cell_type": "code",
   "execution_count": 154,
   "id": "813694e8",
   "metadata": {},
   "outputs": [
    {
     "name": "stderr",
     "output_type": "stream",
     "text": [
      "C:\\Users\\nsude\\AppData\\Local\\Temp\\ipykernel_4240\\2230988942.py:1: SettingWithCopyWarning: \n",
      "A value is trying to be set on a copy of a slice from a DataFrame.\n",
      "Try using .loc[row_indexer,col_indexer] = value instead\n",
      "\n",
      "See the caveats in the documentation: https://pandas.pydata.org/pandas-docs/stable/user_guide/indexing.html#returning-a-view-versus-a-copy\n",
      "  books['tags'] = books['Authors']+books['Description']+books['Category']\n"
     ]
    }
   ],
   "source": [
    "books['tags'] = books['Authors']+books['Description']+books['Category']"
   ]
  },
  {
   "cell_type": "code",
   "execution_count": 155,
   "id": "eac00ce9",
   "metadata": {},
   "outputs": [
    {
     "data": {
      "text/plain": [
       "['Stepanek',\n",
       " 'MattieJ.T.',\n",
       " 'Collects',\n",
       " 'poems',\n",
       " 'written',\n",
       " 'by',\n",
       " 'the',\n",
       " 'eleven-year-old',\n",
       " 'muscular',\n",
       " 'dystrophy',\n",
       " 'patient,',\n",
       " 'sharing',\n",
       " 'his',\n",
       " 'feelings',\n",
       " 'and',\n",
       " 'thoughts',\n",
       " 'about',\n",
       " 'his',\n",
       " 'life,',\n",
       " 'the',\n",
       " 'deaths',\n",
       " 'of',\n",
       " 'his',\n",
       " 'siblings,',\n",
       " 'nature,',\n",
       " 'faith,',\n",
       " 'and',\n",
       " 'hope.',\n",
       " 'Poetry',\n",
       " 'General']"
      ]
     },
     "execution_count": 155,
     "metadata": {},
     "output_type": "execute_result"
    }
   ],
   "source": [
    "books['tags'][7]"
   ]
  },
  {
   "cell_type": "code",
   "execution_count": 156,
   "id": "d7ad3b0b",
   "metadata": {},
   "outputs": [
    {
     "data": {
      "text/html": [
       "<div>\n",
       "<style scoped>\n",
       "    .dataframe tbody tr th:only-of-type {\n",
       "        vertical-align: middle;\n",
       "    }\n",
       "\n",
       "    .dataframe tbody tr th {\n",
       "        vertical-align: top;\n",
       "    }\n",
       "\n",
       "    .dataframe thead th {\n",
       "        text-align: right;\n",
       "    }\n",
       "</style>\n",
       "<table border=\"1\" class=\"dataframe\">\n",
       "  <thead>\n",
       "    <tr style=\"text-align: right;\">\n",
       "      <th></th>\n",
       "      <th>Title</th>\n",
       "      <th>Authors</th>\n",
       "      <th>Description</th>\n",
       "      <th>Category</th>\n",
       "      <th>Publisher</th>\n",
       "      <th>Price Starting With ($)</th>\n",
       "      <th>Publish Date (Month)</th>\n",
       "      <th>Publish Date (Year)</th>\n",
       "      <th>tags</th>\n",
       "    </tr>\n",
       "  </thead>\n",
       "  <tbody>\n",
       "    <tr>\n",
       "      <th>7</th>\n",
       "      <td>Journey Through Heartsongs</td>\n",
       "      <td>[Stepanek, MattieJ.T.]</td>\n",
       "      <td>[Collects, poems, written, by, the, eleven-yea...</td>\n",
       "      <td>[Poetry, General]</td>\n",
       "      <td>VSP Books</td>\n",
       "      <td>19.96</td>\n",
       "      <td>September</td>\n",
       "      <td>2001</td>\n",
       "      <td>[Stepanek, MattieJ.T., Collects, poems, writte...</td>\n",
       "    </tr>\n",
       "    <tr>\n",
       "      <th>8</th>\n",
       "      <td>In Search of Melancholy Baby</td>\n",
       "      <td>[Aksyonov, Vassily, Heim, MichaelHenry, andBou...</td>\n",
       "      <td>[The, Russian, author, offers, an, affectionat...</td>\n",
       "      <td>[BiographyAutobiography, General]</td>\n",
       "      <td>Random House</td>\n",
       "      <td>4.99</td>\n",
       "      <td>June</td>\n",
       "      <td>1987</td>\n",
       "      <td>[Aksyonov, Vassily, Heim, MichaelHenry, andBou...</td>\n",
       "    </tr>\n",
       "    <tr>\n",
       "      <th>10</th>\n",
       "      <td>The Dieter's Guide to Weight Loss During Sex</td>\n",
       "      <td>[Smith, Richard]</td>\n",
       "      <td>[A, humor, classic,, this, tongue-in-cheek, di...</td>\n",
       "      <td>[HealthFitness, DietNutrition, Diets]</td>\n",
       "      <td>Workman Publishing Company</td>\n",
       "      <td>4.99</td>\n",
       "      <td>January</td>\n",
       "      <td>1978</td>\n",
       "      <td>[Smith, Richard, A, humor, classic,, this, ton...</td>\n",
       "    </tr>\n",
       "    <tr>\n",
       "      <th>11</th>\n",
       "      <td>Germs : Biological Weapons and America's Secre...</td>\n",
       "      <td>[Miller, Judith, Engelberg, Stephen, andBroad,...</td>\n",
       "      <td>[Deadly, germs, sprayed, in, shopping, malls,,...</td>\n",
       "      <td>[TechnologyEngineering, MilitaryScience]</td>\n",
       "      <td>Simon &amp; Schuster</td>\n",
       "      <td>4.99</td>\n",
       "      <td>October</td>\n",
       "      <td>2001</td>\n",
       "      <td>[Miller, Judith, Engelberg, Stephen, andBroad,...</td>\n",
       "    </tr>\n",
       "    <tr>\n",
       "      <th>13</th>\n",
       "      <td>The Good Book: Reading the Bible with Mind and...</td>\n",
       "      <td>[Gomes, PeterJ.]</td>\n",
       "      <td>[\"The, Bible, and, the, social, and, moral, co...</td>\n",
       "      <td>[Religion, BiblicalBiography, General]</td>\n",
       "      <td>Harper Perennial</td>\n",
       "      <td>5.29</td>\n",
       "      <td>May</td>\n",
       "      <td>1998</td>\n",
       "      <td>[Gomes, PeterJ., \"The, Bible, and, the, social...</td>\n",
       "    </tr>\n",
       "  </tbody>\n",
       "</table>\n",
       "</div>"
      ],
      "text/plain": [
       "                                                Title  \\\n",
       "7                          Journey Through Heartsongs   \n",
       "8                        In Search of Melancholy Baby   \n",
       "10       The Dieter's Guide to Weight Loss During Sex   \n",
       "11  Germs : Biological Weapons and America's Secre...   \n",
       "13  The Good Book: Reading the Bible with Mind and...   \n",
       "\n",
       "                                              Authors  \\\n",
       "7                              [Stepanek, MattieJ.T.]   \n",
       "8   [Aksyonov, Vassily, Heim, MichaelHenry, andBou...   \n",
       "10                                   [Smith, Richard]   \n",
       "11  [Miller, Judith, Engelberg, Stephen, andBroad,...   \n",
       "13                                   [Gomes, PeterJ.]   \n",
       "\n",
       "                                          Description  \\\n",
       "7   [Collects, poems, written, by, the, eleven-yea...   \n",
       "8   [The, Russian, author, offers, an, affectionat...   \n",
       "10  [A, humor, classic,, this, tongue-in-cheek, di...   \n",
       "11  [Deadly, germs, sprayed, in, shopping, malls,,...   \n",
       "13  [\"The, Bible, and, the, social, and, moral, co...   \n",
       "\n",
       "                                    Category                   Publisher  \\\n",
       "7                          [Poetry, General]                   VSP Books   \n",
       "8          [BiographyAutobiography, General]                Random House   \n",
       "10     [HealthFitness, DietNutrition, Diets]  Workman Publishing Company   \n",
       "11  [TechnologyEngineering, MilitaryScience]            Simon & Schuster   \n",
       "13    [Religion, BiblicalBiography, General]            Harper Perennial   \n",
       "\n",
       "    Price Starting With ($) Publish Date (Month)  Publish Date (Year)  \\\n",
       "7                     19.96            September                 2001   \n",
       "8                      4.99                 June                 1987   \n",
       "10                     4.99              January                 1978   \n",
       "11                     4.99              October                 2001   \n",
       "13                     5.29                  May                 1998   \n",
       "\n",
       "                                                 tags  \n",
       "7   [Stepanek, MattieJ.T., Collects, poems, writte...  \n",
       "8   [Aksyonov, Vassily, Heim, MichaelHenry, andBou...  \n",
       "10  [Smith, Richard, A, humor, classic,, this, ton...  \n",
       "11  [Miller, Judith, Engelberg, Stephen, andBroad,...  \n",
       "13  [Gomes, PeterJ., \"The, Bible, and, the, social...  "
      ]
     },
     "execution_count": 156,
     "metadata": {},
     "output_type": "execute_result"
    }
   ],
   "source": [
    "books.head()"
   ]
  },
  {
   "cell_type": "code",
   "execution_count": 158,
   "id": "1f1244d9",
   "metadata": {},
   "outputs": [
    {
     "data": {
      "text/plain": [
       "['Stepanek',\n",
       " 'MattieJ.T.',\n",
       " 'Collects',\n",
       " 'poems',\n",
       " 'written',\n",
       " 'by',\n",
       " 'the',\n",
       " 'eleven-year-old',\n",
       " 'muscular',\n",
       " 'dystrophy',\n",
       " 'patient,',\n",
       " 'sharing',\n",
       " 'his',\n",
       " 'feelings',\n",
       " 'and',\n",
       " 'thoughts',\n",
       " 'about',\n",
       " 'his',\n",
       " 'life,',\n",
       " 'the',\n",
       " 'deaths',\n",
       " 'of',\n",
       " 'his',\n",
       " 'siblings,',\n",
       " 'nature,',\n",
       " 'faith,',\n",
       " 'and',\n",
       " 'hope.',\n",
       " 'Poetry',\n",
       " 'General']"
      ]
     },
     "execution_count": 158,
     "metadata": {},
     "output_type": "execute_result"
    }
   ],
   "source": [
    "books['tags'][7]"
   ]
  },
  {
   "cell_type": "code",
   "execution_count": 159,
   "id": "92415542",
   "metadata": {},
   "outputs": [],
   "source": [
    "new_books = books[['Title','tags']]"
   ]
  },
  {
   "cell_type": "code",
   "execution_count": 166,
   "id": "6752c26f",
   "metadata": {},
   "outputs": [
    {
     "name": "stderr",
     "output_type": "stream",
     "text": [
      "C:\\Users\\nsude\\AppData\\Local\\Temp\\ipykernel_4240\\4188404544.py:1: SettingWithCopyWarning: \n",
      "A value is trying to be set on a copy of a slice from a DataFrame.\n",
      "Try using .loc[row_indexer,col_indexer] = value instead\n",
      "\n",
      "See the caveats in the documentation: https://pandas.pydata.org/pandas-docs/stable/user_guide/indexing.html#returning-a-view-versus-a-copy\n",
      "  new_books['tags']=new_books['tags'].apply(lambda x :\" \".join(x))\n"
     ]
    }
   ],
   "source": [
    "new_books['tags']=new_books['tags'].apply(lambda x :\" \".join(x))"
   ]
  },
  {
   "cell_type": "code",
   "execution_count": 168,
   "id": "58e73c48",
   "metadata": {},
   "outputs": [
    {
     "data": {
      "text/html": [
       "<div>\n",
       "<style scoped>\n",
       "    .dataframe tbody tr th:only-of-type {\n",
       "        vertical-align: middle;\n",
       "    }\n",
       "\n",
       "    .dataframe tbody tr th {\n",
       "        vertical-align: top;\n",
       "    }\n",
       "\n",
       "    .dataframe thead th {\n",
       "        text-align: right;\n",
       "    }\n",
       "</style>\n",
       "<table border=\"1\" class=\"dataframe\">\n",
       "  <thead>\n",
       "    <tr style=\"text-align: right;\">\n",
       "      <th></th>\n",
       "      <th>Title</th>\n",
       "      <th>tags</th>\n",
       "    </tr>\n",
       "  </thead>\n",
       "  <tbody>\n",
       "    <tr>\n",
       "      <th>7</th>\n",
       "      <td>Journey Through Heartsongs</td>\n",
       "      <td>Stepanek MattieJ.T. Collects poems written by ...</td>\n",
       "    </tr>\n",
       "    <tr>\n",
       "      <th>8</th>\n",
       "      <td>In Search of Melancholy Baby</td>\n",
       "      <td>Aksyonov Vassily Heim MichaelHenry andBouis An...</td>\n",
       "    </tr>\n",
       "    <tr>\n",
       "      <th>10</th>\n",
       "      <td>The Dieter's Guide to Weight Loss During Sex</td>\n",
       "      <td>Smith Richard A humor classic, this tongue-in-...</td>\n",
       "    </tr>\n",
       "    <tr>\n",
       "      <th>11</th>\n",
       "      <td>Germs : Biological Weapons and America's Secre...</td>\n",
       "      <td>Miller Judith Engelberg Stephen andBroad Willi...</td>\n",
       "    </tr>\n",
       "    <tr>\n",
       "      <th>13</th>\n",
       "      <td>The Good Book: Reading the Bible with Mind and...</td>\n",
       "      <td>Gomes PeterJ. \"The Bible and the social and mo...</td>\n",
       "    </tr>\n",
       "  </tbody>\n",
       "</table>\n",
       "</div>"
      ],
      "text/plain": [
       "                                                Title  \\\n",
       "7                          Journey Through Heartsongs   \n",
       "8                        In Search of Melancholy Baby   \n",
       "10       The Dieter's Guide to Weight Loss During Sex   \n",
       "11  Germs : Biological Weapons and America's Secre...   \n",
       "13  The Good Book: Reading the Bible with Mind and...   \n",
       "\n",
       "                                                 tags  \n",
       "7   Stepanek MattieJ.T. Collects poems written by ...  \n",
       "8   Aksyonov Vassily Heim MichaelHenry andBouis An...  \n",
       "10  Smith Richard A humor classic, this tongue-in-...  \n",
       "11  Miller Judith Engelberg Stephen andBroad Willi...  \n",
       "13  Gomes PeterJ. \"The Bible and the social and mo...  "
      ]
     },
     "execution_count": 168,
     "metadata": {},
     "output_type": "execute_result"
    }
   ],
   "source": [
    "new_books.head()"
   ]
  },
  {
   "cell_type": "code",
   "execution_count": 167,
   "id": "567fae35",
   "metadata": {},
   "outputs": [
    {
     "data": {
      "text/plain": [
       "'Aksyonov Vassily Heim MichaelHenry andBouis AntoninaW. The Russian author offers an affectionate chronicle of life in the United States, with discussions of such topics as the European charm of Washington, D.C., and the American immigration bureaucracy BiographyAutobiography General'"
      ]
     },
     "execution_count": 167,
     "metadata": {},
     "output_type": "execute_result"
    }
   ],
   "source": [
    "new_books['tags'][8]"
   ]
  },
  {
   "cell_type": "code",
   "execution_count": 169,
   "id": "f5a56603",
   "metadata": {},
   "outputs": [
    {
     "name": "stderr",
     "output_type": "stream",
     "text": [
      "C:\\Users\\nsude\\AppData\\Local\\Temp\\ipykernel_4240\\913665027.py:1: SettingWithCopyWarning: \n",
      "A value is trying to be set on a copy of a slice from a DataFrame.\n",
      "Try using .loc[row_indexer,col_indexer] = value instead\n",
      "\n",
      "See the caveats in the documentation: https://pandas.pydata.org/pandas-docs/stable/user_guide/indexing.html#returning-a-view-versus-a-copy\n",
      "  new_books['tags'] = new_books['tags'].apply(lambda x:x.lower())\n"
     ]
    }
   ],
   "source": [
    "new_books['tags'] = new_books['tags'].apply(lambda x:x.lower())"
   ]
  },
  {
   "cell_type": "code",
   "execution_count": 170,
   "id": "a30739e3",
   "metadata": {},
   "outputs": [
    {
     "data": {
      "text/plain": [
       "'aksyonov vassily heim michaelhenry andbouis antoninaw. the russian author offers an affectionate chronicle of life in the united states, with discussions of such topics as the european charm of washington, d.c., and the american immigration bureaucracy biographyautobiography general'"
      ]
     },
     "execution_count": 170,
     "metadata": {},
     "output_type": "execute_result"
    }
   ],
   "source": [
    "new_books['tags'][8]"
   ]
  },
  {
   "cell_type": "code",
   "execution_count": 171,
   "id": "2e845528",
   "metadata": {},
   "outputs": [
    {
     "data": {
      "text/plain": [
       "'stepanek mattiej.t. collects poems written by the eleven-year-old muscular dystrophy patient, sharing his feelings and thoughts about his life, the deaths of his siblings, nature, faith, and hope. poetry general'"
      ]
     },
     "execution_count": 171,
     "metadata": {},
     "output_type": "execute_result"
    }
   ],
   "source": [
    "new_books['tags'][7]"
   ]
  },
  {
   "cell_type": "code",
   "execution_count": 172,
   "id": "0cec9c58",
   "metadata": {},
   "outputs": [],
   "source": [
    "import nltk"
   ]
  },
  {
   "cell_type": "code",
   "execution_count": 173,
   "id": "19ca0aba",
   "metadata": {},
   "outputs": [],
   "source": [
    "from nltk.stem.porter import PorterStemmer\n",
    "ps=PorterStemmer()"
   ]
  },
  {
   "cell_type": "code",
   "execution_count": 174,
   "id": "1a9051a6",
   "metadata": {},
   "outputs": [],
   "source": [
    "def stem(text):\n",
    "    y=[]\n",
    "    \n",
    "    for i in text.split():\n",
    "        y.append(ps.stem(i))\n",
    "        \n",
    "    return \" \".join(y)"
   ]
  },
  {
   "cell_type": "code",
   "execution_count": 175,
   "id": "a9e67975",
   "metadata": {},
   "outputs": [
    {
     "name": "stderr",
     "output_type": "stream",
     "text": [
      "C:\\Users\\nsude\\AppData\\Local\\Temp\\ipykernel_4240\\249416302.py:1: SettingWithCopyWarning: \n",
      "A value is trying to be set on a copy of a slice from a DataFrame.\n",
      "Try using .loc[row_indexer,col_indexer] = value instead\n",
      "\n",
      "See the caveats in the documentation: https://pandas.pydata.org/pandas-docs/stable/user_guide/indexing.html#returning-a-view-versus-a-copy\n",
      "  new_books['tags'] =new_books['tags'].apply(stem)\n"
     ]
    }
   ],
   "source": [
    "new_books['tags'] =new_books['tags'].apply(stem)"
   ]
  },
  {
   "cell_type": "code",
   "execution_count": 182,
   "id": "7e9592b8",
   "metadata": {},
   "outputs": [],
   "source": [
    "from sklearn.feature_extraction.text import CountVectorizer\n",
    "cv = CountVectorizer(max_features=4000,stop_words='english')"
   ]
  },
  {
   "cell_type": "code",
   "execution_count": 183,
   "id": "eb89912e",
   "metadata": {},
   "outputs": [],
   "source": [
    "vectors = cv.fit_transform(new_books['tags']).toarray()"
   ]
  },
  {
   "cell_type": "code",
   "execution_count": 184,
   "id": "64208a5f",
   "metadata": {},
   "outputs": [
    {
     "data": {
      "text/plain": [
       "array([0, 0, 0, ..., 0, 0, 0], dtype=int64)"
      ]
     },
     "execution_count": 184,
     "metadata": {},
     "output_type": "execute_result"
    }
   ],
   "source": [
    "vectors[7]"
   ]
  },
  {
   "cell_type": "code",
   "execution_count": 185,
   "id": "d021df49",
   "metadata": {},
   "outputs": [
    {
     "data": {
      "text/plain": [
       "array(['000', '10', '100', ..., 'youth', 'zelda', 'zone'], dtype=object)"
      ]
     },
     "execution_count": 185,
     "metadata": {},
     "output_type": "execute_result"
    }
   ],
   "source": [
    "cv.get_feature_names_out()"
   ]
  },
  {
   "cell_type": "code",
   "execution_count": 186,
   "id": "267c2e0d",
   "metadata": {},
   "outputs": [],
   "source": [
    "from sklearn.metrics.pairwise import cosine_similarity"
   ]
  },
  {
   "cell_type": "code",
   "execution_count": 187,
   "id": "6a257034",
   "metadata": {},
   "outputs": [],
   "source": [
    "similaritytags = cosine_similarity(vectors)"
   ]
  },
  {
   "cell_type": "code",
   "execution_count": 188,
   "id": "1883b10b",
   "metadata": {},
   "outputs": [
    {
     "data": {
      "text/plain": [
       "(2000, 2000)"
      ]
     },
     "execution_count": 188,
     "metadata": {},
     "output_type": "execute_result"
    }
   ],
   "source": [
    "similaritytags.shape"
   ]
  },
  {
   "cell_type": "code",
   "execution_count": 193,
   "id": "7a2dda81",
   "metadata": {},
   "outputs": [
    {
     "data": {
      "text/plain": [
       "[(548, 0.5237229365663818),\n",
       " (129, 0.5033222956847166),\n",
       " (1346, 0.4865336327998412),\n",
       " (1655, 0.4804845310885508),\n",
       " (1147, 0.4526019054848144)]"
      ]
     },
     "execution_count": 193,
     "metadata": {},
     "output_type": "execute_result"
    }
   ],
   "source": [
    "sorted(list(enumerate(similaritytags[0])),reverse=True,key=lambda x:x[1])[1:6]"
   ]
  },
  {
   "cell_type": "code",
   "execution_count": null,
   "id": "18621152",
   "metadata": {},
   "outputs": [],
   "source": []
  },
  {
   "cell_type": "code",
   "execution_count": 203,
   "id": "ed591aa2",
   "metadata": {},
   "outputs": [],
   "source": [
    "def recommend(book):\n",
    "    book_index = new_books[new_books['Title']==book].index[0]\n",
    "    distances = similaritytags[book_index]\n",
    "    books_list =sorted(list(enumerate(distances)),reverse=True,key=lambda x:x[1])[1:6]\n",
    "    \n",
    "    for i in books_list:\n",
    "        print(new_books.iloc[i[0]].Title)"
   ]
  },
  {
   "cell_type": "code",
   "execution_count": 204,
   "id": "1c81ff2f",
   "metadata": {},
   "outputs": [
    {
     "name": "stdout",
     "output_type": "stream",
     "text": [
      "506\n",
      "204\n",
      "1441\n",
      "1827\n",
      "1526\n"
     ]
    }
   ],
   "source": [
    "recommend('Journey Through Heartsongs')"
   ]
  },
  {
   "cell_type": "code",
   "execution_count": 206,
   "id": "dbc74322",
   "metadata": {},
   "outputs": [
    {
     "data": {
      "text/plain": [
       "'Indispensable Cat'"
      ]
     },
     "execution_count": 206,
     "metadata": {},
     "output_type": "execute_result"
    }
   ],
   "source": [
    "new_books.iloc[506].Title"
   ]
  },
  {
   "cell_type": "code",
   "execution_count": null,
   "id": "44944733",
   "metadata": {},
   "outputs": [],
   "source": []
  },
  {
   "cell_type": "code",
   "execution_count": null,
   "id": "c5b6e7d9",
   "metadata": {},
   "outputs": [],
   "source": []
  }
 ],
 "metadata": {
  "kernelspec": {
   "display_name": "Python 3 (ipykernel)",
   "language": "python",
   "name": "python3"
  },
  "language_info": {
   "codemirror_mode": {
    "name": "ipython",
    "version": 3
   },
   "file_extension": ".py",
   "mimetype": "text/x-python",
   "name": "python",
   "nbconvert_exporter": "python",
   "pygments_lexer": "ipython3",
   "version": "3.11.5"
  }
 },
 "nbformat": 4,
 "nbformat_minor": 5
}
